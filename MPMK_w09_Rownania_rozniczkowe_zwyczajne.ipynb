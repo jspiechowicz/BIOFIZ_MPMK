{
 "cells": [
  {
   "cell_type": "markdown",
   "metadata": {
    "slideshow": {
     "slide_type": "slide"
    }
   },
   "source": [
    "# Matematyczne podstawy modelowania komputerowego\n",
    "\n",
    "Jakub Spiechowicz\n",
    "\n",
    "Wyklad 09, Rownania rozniczkowe zwyczajne"
   ]
  },
  {
   "cell_type": "markdown",
   "metadata": {
    "slideshow": {
     "slide_type": "slide"
    }
   },
   "source": [
    "# Sformulowanie problemu\n",
    "\n",
    "Typowe rownanie rozniczkowe zwyczajne albo zagadnienie poczatkowe jest opisane rownaniami\n",
    "\n",
    "$$ \\frac{dx(t)}{dt} = \\dot{x}(t) = f(t,x), \\quad x(t_0) = x_0. $$\n",
    "\n",
    "Jezeli funkcja $f$ jest ciagla dla $a \\leq t \\leq b$, $-\\infty < x < \\infty$ i spelnia tam warunek Lipschitza, tzn. \n",
    "\n",
    "$$ |f(t,x_1) - f(t,x_2)| \\leq L|x_1 - x_2| $$\n",
    "\n",
    "to powyzsze zagadnienie poczatkowe ma w przedziale $t \\in [a,b]$ jednoznaczne rozwiazanie."
   ]
  },
  {
   "cell_type": "markdown",
   "metadata": {
    "slideshow": {
     "slide_type": "slide"
    }
   },
   "source": [
    "Rozwiazujac numerycznie rownanie rozniczkowe zwyczajne otrzymujemy tablice wartosci $x_i$ w chwilach $t_i$. \n",
    "\n",
    "Za jej pomoca mozna w razie potrzeby interpolowac faktyczne rozwiazanie zagadnienia poczatkowego."
   ]
  },
  {
   "cell_type": "markdown",
   "metadata": {
    "slideshow": {
     "slide_type": "slide"
    }
   },
   "source": [
    "# Zastosowanie wzoru Taylora\n",
    "\n",
    "W celu rozwiazania zagadnienia poczatkowego mozemy uzyc bezposrednio wzoru Taylora, tzn. jesli\n",
    "\n",
    "$$ \\dot{x}(t) = f(t,x), \\quad x(t_0) = x_0, $$\n",
    "\n",
    "to np.\n",
    "\n",
    "$$ x(t+h) \\approx x(t) + x'(t)h + \\frac{1}{2!}x''(t)h^2 + \\frac{1}{3!}x'''(t)h^3 + \\mathcal{O}(h^4). $$\n",
    "\n",
    "Poniewaz w rozwinieciu zachowalismy skladniki az do $\\mathcal{O}(h^3)$ to mowimy, ze ta metoda jest rzedu trzeciego."
   ]
  },
  {
   "cell_type": "markdown",
   "metadata": {
    "slideshow": {
     "slide_type": "slide"
    }
   },
   "source": [
    "Wady\n",
    "\n",
    "* Dla rzedow wyzszych niz 1 trzeba wielokrotnie rozniczkowac prawa strone rownania\n",
    "* Jej odpowiednie pochodne musza istniec w obszarze, przez ktory przechodzi rozwiazanie\n",
    "\n",
    "Zalety\n",
    "\n",
    "* Prostota\n",
    "* Mozliwa do osiagniecia wysoka dokladnosc"
   ]
  },
  {
   "cell_type": "markdown",
   "metadata": {
    "slideshow": {
     "slide_type": "slide"
    }
   },
   "source": [
    "# Bledy \n",
    "\n",
    "Rodzaje bledow wystepujace w kazdej metodzie rozwiazywania numerycznego rownan rozniczkowych:\n",
    "\n",
    "* Blad metody\n",
    "* Blad zaokraglen\n",
    "\n",
    "oraz\n",
    "\n",
    "* Blad lokalny\n",
    "* Blad globalny"
   ]
  },
  {
   "cell_type": "markdown",
   "metadata": {
    "slideshow": {
     "slide_type": "slide"
    }
   },
   "source": [
    "# Metoda Eulera\n",
    "\n",
    "Najprostsza metoda, a wiec rzedu pierwszego, oparta na wzorze Taylora jest tzw. metoda Eulera\n",
    "\n",
    "$$ x(t+h) \\approx x(t) + f(t,x)h. $$\n",
    "\n",
    "Jej oczywista zaleta jest to, ze nie trzeba rozniczkowac funkcji $f$. Placimy za to koniecznoscia wyboru malego $h$ w celu dobrego przyblizenia rozwiazania."
   ]
  },
  {
   "cell_type": "markdown",
   "metadata": {
    "slideshow": {
     "slide_type": "slide"
    }
   },
   "source": [
    "# Zadanie \n",
    "\n",
    "Zastosowac metode Eulera dla zagadnienia poczatkowego \n",
    "\n",
    "$$ \\dot{x} = t^{-2}(tx - x^2), \\quad x(1) = 2.$$\n",
    "\n",
    "i porownac z rozwiazaniem analitycznym $x(t) = t(\\frac{1}{2} + \\log t)^{-1}$."
   ]
  },
  {
   "cell_type": "markdown",
   "metadata": {
    "slideshow": {
     "slide_type": "slide"
    }
   },
   "source": [
    "# Metody Rungego-Kutty\n",
    "\n",
    "Metoda $n$-tego rzedu oparta na rozwinieciu w szereg Taylora wymaga znalezienia wyrazen dla zupelnych pochodnych funkcji $f$ wzgledem $t$ do $n$-tej wlacznie. Metody Rungego-Kutty nie maja tej wady. Zamiast nich trzeba tu obliczac dobrane w szczegolny sposob kombinacje wartosci funkcji $f$."
   ]
  },
  {
   "cell_type": "markdown",
   "metadata": {
    "slideshow": {
     "slide_type": "slide"
    }
   },
   "source": [
    "Dla zagadnienia poczatkowego\n",
    "\n",
    "$$ \\dot{x}(t) = f(t,x), \\quad x(t_0) = x_0, $$\n",
    "\n",
    "mamy\n",
    "\n",
    "\\begin{align}\n",
    "    \\frac{dx(t)}{dt} &= f(t,x), \\\\\n",
    "    \\frac{d^2x(t)}{dt^2} &= \\frac{\\partial f(t,x)}{\\partial t} + \\frac{\\partial f(t,x)}{\\partial x}\\frac{dx(t)}{dt} = \\frac{\\partial f(t,x)}{\\partial t} + \\frac{\\partial f(t,x)}{\\partial x} f(t,x), \\\\ &...\n",
    "\\end{align}"
   ]
  },
  {
   "cell_type": "markdown",
   "metadata": {
    "slideshow": {
     "slide_type": "slide"
    }
   },
   "source": [
    "Podstawmy te wyrazenia do wzoru Taylora\n",
    "\\begin{align}\n",
    "{\\scriptsize x(t+h)} &= {\\scriptsize x(t) + x'(t)h + \\frac{1}{2}x''(t)h^2 + \\mathcal{O}(h^3)} \\\\ &= {\\scriptsize x(t) + f(t,x)h + \\frac{1}{2}\\left[ \\frac{\\partial f(t,x)}{\\partial t} + \\frac{\\partial f(t,x)}{\\partial x} f(t,x) \\right]h^2 + \\mathcal{O}(h^3)} \\\\ &= {\\scriptsize x(t) + \\frac{1}{2}f(t,x)h + \\frac{1}{2}h\\left[f(t,x) + \\frac{\\partial f(t,x)}{\\partial t}h + \\frac{\\partial f(t,x)}{\\partial x} f(t,x)h \\right] + \\mathcal{O}(h^3).}\n",
    "\\end{align}\n",
    "\n",
    "Zauwazmy, ze\n",
    "\n",
    "$${\\scriptsize f(t+h, x+hf(t,x)) = f(t,x) + \\frac{\\partial f(t,x)}{\\partial t}h + \\frac{\\partial f(t,x)}{\\partial x}f(t,x)h + \\mathcal{O}(h^3).}$$\n",
    "\n",
    "Zatem\n",
    "\n",
    "$${\\scriptsize x(t+h) = x(t) + \\frac{1}{2}f(t,x)h + \\frac{1}{2}f(t+h,x+f(t,x)h)h + \\mathcal{O}(h^3).}$$"
   ]
  },
  {
   "cell_type": "markdown",
   "metadata": {
    "slideshow": {
     "slide_type": "slide"
    }
   },
   "source": [
    "Ostatecznie\n",
    "\n",
    "$$ x(t+h) = x(t) + \\frac{1}{2}(F_1 + F_2), $$\n",
    "\n",
    "gdzie \n",
    "\n",
    "$$ F_1 = f(t,x)h, \\quad F_2 = f(t+h,x+F_1)h. $$\n",
    "\n",
    "Powyzszy wzor okresla metode Rungego-Kutty rzedu drugiego znana takze jako metoda Heuna."
   ]
  },
  {
   "cell_type": "markdown",
   "metadata": {
    "slideshow": {
     "slide_type": "slide"
    }
   },
   "source": [
    "Ogolniej, kazda metoda Rungego-Kutty drugiego rzedu ma postac\n",
    "\n",
    "$$ {\\scriptsize x(t+h) = x(t) + w_1f(t,x)h + w_2f(t + \\alpha h, x + \\beta f(t,x)h)h} $$\n",
    "\n",
    "z parametrami $w_1$, $w_2$, $\\alpha$, $\\beta$. Ta rownosc zachodzi jesli\n",
    "\n",
    "$$ {\\scriptsize x(t+h) = x(t) + w_1f(t,x)h + w_2f\\left( f(t,x) + \\alpha \\frac{\\partial f(t,x)}{\\partial t}h + \\beta\\frac{\\partial f(t,x)}{\\partial x}f(t,x) \\right)h}, $$\n",
    "\n",
    "skad \n",
    "\n",
    "$$ w_1 + w_2 = 1, \\quad w_2\\alpha = \\frac{1}{2}, \\quad w_2\\beta = \\frac{1}{2}. $$"
   ]
  },
  {
   "cell_type": "markdown",
   "metadata": {
    "slideshow": {
     "slide_type": "slide"
    }
   },
   "source": [
    "Rozwiazanie $w_1 = w_2 = \\frac{1}{2}, \\alpha = \\beta = 1$ daje metode Heuna, ale mozna przyjac rowniez $w_1 = 0$, $w_2 = 1$ i $\\alpha = \\beta = \\frac{1}{2}$. Wtedy otrzymamy wariant metody Eulera\n",
    "\n",
    "$$ x(t+h) = x(t) + F_2, $$\n",
    "\n",
    "gdzie\n",
    "\n",
    "$$ F_1 = f(t,x)h, \\quad F_2 = f(t+\\frac{1}{2}h,x+\\frac{1}{2}F_1)h. $$"
   ]
  },
  {
   "cell_type": "markdown",
   "metadata": {
    "slideshow": {
     "slide_type": "slide"
    }
   },
   "source": [
    "# Zadanie\n",
    "\n",
    "Sprawdzic dzialanie metody Heuna i zmodyfikowanego algorytmu Eulera dla przykladu z poprzedniego zadania."
   ]
  },
  {
   "cell_type": "markdown",
   "metadata": {
    "slideshow": {
     "slide_type": "slide"
    }
   },
   "source": [
    "# Metody wielokrokowe\n",
    "\n",
    "Poprzednio omowione metody sa jednokrokowe w tym sensie, ze obliczajac $x(t+h)$ nalezy znac tylko jedna wartosc rozwiazania, tzn. $x(t)$. W bardziej efektywnych procedurach wartosc $x(t+h)$ wyraza sie poprzez wartosci w kilku punktach $x(t)$ dlatego nazywamy je wielokrokowymi."
   ]
  },
  {
   "cell_type": "markdown",
   "metadata": {
    "slideshow": {
     "slide_type": "slide"
    }
   },
   "source": [
    "Szukamy rozwiazania zagadnienia poczatkowego\n",
    "\n",
    "$$ \\dot{x}(t) = f(t,x), \\quad x(t_0) = x_0 $$\n",
    "\n",
    "w puktach $t_1, t_2, ...$ niekoniecznie rownoodleglych. Calkowanie daje rownosc\n",
    "\n",
    "$$ x(t_{n+1}) = x(t_n) + \\int_{t_n}^{t_{n+1}} dt\\,f(t,x(t)). $$\n",
    "\n",
    "Calke po prawej stronie mozna obliczac numerycznie stosujac kwadrature z wezlami $t_i$."
   ]
  },
  {
   "cell_type": "markdown",
   "metadata": {
    "slideshow": {
     "slide_type": "slide"
    }
   },
   "source": [
    "Przyjmijmy $x_i = x(t_i)$ oraz $f_i = f(t_i,x_i)$. Wtedy wzor\n",
    "\n",
    "$$ x_{n+1} = x_n + af_n + bf_{n-1} + cf_{n-2} + \\,... $$\n",
    "\n",
    "wynikajacy z poprzedniej rownosci nazywamy wzorem Adamsa-Bashfortha. Jednym z nich jest wzor rzedu piatego, $t_i = t_0 + ih$,\n",
    "\n",
    "$$ {\\scriptsize x_{n+1} = x_n + \\frac{1}{720}(1901f_n - 2774f_{n-1} + 2616f_{n-2} - 1274f_{n-3} + 251f_{n-4})h.} $$\n",
    "\n",
    "Latwo sie domyslic, ze wynika on z przyblizenia calki nastepujaca kwadratura\n",
    "\n",
    "$$ \\int_{t_n}^{t_{n+1}} dt\\,f(t,x(t)) \\approx (Af_n + Bf_{n-1} + Cf_{n-2} + Df_{n-3} + Ef_{n-4})h. $$"
   ]
  },
  {
   "cell_type": "markdown",
   "metadata": {
    "slideshow": {
     "slide_type": "slide"
    }
   },
   "source": [
    "W praktyce numerycznej wzory Adamsa-Bashfortha sa rzadko uzywane samodzielnie. Aby polepszyc dokladnosc stosuje sie je z pewnymi innymi wzorami. Otrzymujemy je zakladajac, ze przyblizenie calki moze zalezec rowniez od $f_{n+1}$. To daje tzw. wzory Adamsa-Moultona, np.\n",
    "\n",
    "$$ x_{n+1} = x_n + af_{n+1} + bf_n + cf_{n-1} + ..., $$\n",
    "\n",
    "gdzie $t_i = t_0 + ih$ oraz\n",
    "\n",
    "$$ {\\scriptsize x_{n+1} = x_n + \\frac{1}{720}(251f_{n+1} + 646f_n - 264f_{n-1} + 106f_{n-2} - 19f_{n-3})h.} $$"
   ]
  },
  {
   "cell_type": "markdown",
   "metadata": {
    "slideshow": {
     "slide_type": "slide"
    }
   },
   "source": [
    "Zauwazmy, ze tutaj szukane $x_{n+1}$ wystepuje rowniez po prawej stronie w $f_{n+1}$. Dlatego uzywa sie kombinacji dwoch wzorow: wzor Adamsa-Bashfortha daje wstepna wartosc, np. $x^*_{n+1}$, szukanego $x_{n+1}$, a wzor Adamsa-Moultona z $f(t_{n+1}, x^*_{n+1})$ po prawej stronie daje poprawiona wartosc. Jest to metoda typu predyktor-korektor czyli metoda ekstrapolacyjno-interpolacyjna."
   ]
  },
  {
   "cell_type": "markdown",
   "metadata": {
    "slideshow": {
     "slide_type": "slide"
    }
   },
   "source": [
    "Zauwazmy rowniez, ze szczegolny sposob postepowania jest wymagany na poczatku obliczen, kiedy znamy wylacznie $x_0$. Watosci $x_1, x_2, x_3, x_4$ mozemy znalezc metoda Rungego-Kutty."
   ]
  },
  {
   "cell_type": "markdown",
   "metadata": {
    "slideshow": {
     "slide_type": "slide"
    }
   },
   "source": [
    "# Stabilnosc i zbieznosc\n",
    "\n",
    "Zagadnienie poczatkowe \n",
    "\n",
    "$$ \\dot{x}(t) = f(t,x), \\quad x(t_0) = x_0 $$\n",
    "\n",
    "mozna rozwiazywac np. metodami wielokrokowymi otrzymujac przyblizenie $x^*(t)$. Mowimy, ze dowolna metoda jest zbiezna, gdy \n",
    "\n",
    "$$ \\lim_{h \\to 0} x^*(h,t) = x(t). $$\n",
    "\n",
    "Podobnie, mowimy, ze metoda jest stabilna jezeli dla kazdego $\\epsilon > 0$ istnieje $\\delta > 0$, taka, ze jesli\n",
    "$ ||x(t_0) - x^*(t_0)|| < \\delta $, to\n",
    "\n",
    "$$ ||x(t) - x^*(t)|| < \\epsilon, \\quad t > t_0. $$"
   ]
  },
  {
   "cell_type": "markdown",
   "metadata": {
    "slideshow": {
     "slide_type": "slide"
    }
   },
   "source": [
    "# Uklady rownan rozniczkowych zwyczajnych\n",
    "\n",
    "Uklad rownan rozniczkowych rzedu pierwszego ma postac\n",
    "\n",
    "$$ \\dot{x}_i(t) = f_i(t, x_1, x_2, ..., x_n), \\quad (1 \\leq i \\leq n). $$\n",
    "\n",
    "Mozna go wyrazic prosciej uzywajac symboliki wektorowej, niech\n",
    "\n",
    "* $X$ bedzie wektorem kolumnowym o skladowych $x_1$, $x_2$, ..., $x_n$\n",
    "* $F$ bedzie wektorem kolumnowym o skladowych $f_1$, $f_2$, ..., $f_n$\n",
    "\n",
    "Wtedy\n",
    "\n",
    "$$ \\dot{X}(t) = F(t,X), \\quad X(t_0) = X_0. $$"
   ]
  },
  {
   "cell_type": "markdown",
   "metadata": {
    "slideshow": {
     "slide_type": "slide"
    }
   },
   "source": [
    "Podobnie, rownanie rozniczkowe $n$-tego rzedu\n",
    "\n",
    "$$ y^{(n)} = f(t, y, y', y'', ..., y^{(n-1)}) $$\n",
    "\n",
    "mozna przeksztalcic na uklad rownan rozniczkowych rzedu pierwszego stosujac podstawienie\n",
    "\n",
    "$$ y^{(k)} = x_{k+1}, \\quad (0 \\leq k \\leq n - 1), $$\n",
    "\n",
    "co daje ostatecznie $x'_n = f(t, x_1, x_2, ..., x_n)$. "
   ]
  },
  {
   "cell_type": "markdown",
   "metadata": {
    "slideshow": {
     "slide_type": "slide"
    }
   },
   "source": [
    "# Zastosowanie wzoru Taylora dla ukladu rownan rozniczkowych\n",
    "\n",
    "Poznana metode Taylora mozna bez przeszkod do ukladu rownan rozniczkowych rzedu pierwszego\n",
    "\n",
    "$$ X(t + h) = X(t) + X'(t)h + \\frac{1}{2!}X''(t)h^2 + ... $$\n",
    "\n",
    "Wystepujace tu pochodne trzeba wyrazic analitycznie poslugujac sie danym ukladem lub wyznaczyc przy pomocy algebry komputerowej.\n",
    "\n",
    "Podobnie, zastepujac $x(t)$ przez $X(t)$, a $f(t,x)$ przez $F(t,X)$ mozna napisac wariant metody Rungego-Kutty lub Adamsa-Bashfortha dla ukladow rownan rozniczkowych."
   ]
  },
  {
   "cell_type": "markdown",
   "metadata": {
    "slideshow": {
     "slide_type": "slide"
    }
   },
   "source": [
    "# Zadanie\n",
    "\n",
    "Napisac program rozwiazujacy przy pomocy wzoru Taylora rzedu trzeciego zagadnienie poczatkowe\n",
    "\n",
    "\\begin{align}\n",
    "\\dot{x} &= x + 4y - e^t, \\quad x(0) = 4,\\\\\n",
    "\\dot{y} &= x + y + 2e^t, \\quad y(0) = \\frac{5}{4}.\n",
    "\\end{align}\n",
    "\n",
    "i porownac jego rozwiazanie z wzorem analitycznym\n",
    "\n",
    "$$ x(t) = 4e^{3t} + 2e^{-t} - 2e^t, \\quad y(t) = 2e^{3t} - e^{-t} + \\frac{1}{4}e^t. $$"
   ]
  },
  {
   "cell_type": "markdown",
   "metadata": {
    "slideshow": {
     "slide_type": "slide"
    }
   },
   "source": [
    "# Zagadnienia brzegowe\n",
    "\n",
    "Dotychczas zajmowalismy sie zagadnieniami poczatkowymi, do ktorych nalezy m.in. problem\n",
    "\n",
    "$$ \\ddot{x}(t) = f(t,x,\\dot{x}), \\quad x(a) = \\alpha, \\quad \\dot{x}(a) = \\beta. $$\n",
    "\n",
    "Inne metody stosujemy w przypadku tzw. zagadnien brzegowych, w ktorych na rozwiazanie rownania rozniczkowego rzedu drugiego naklada sie warunki w dwoch punktach. Typowy przyklad jest nastepujacy\n",
    "\n",
    "$$ \\ddot{x}(t) = f(t,x,\\dot{x}), \\quad x(a) = \\alpha, \\quad x(b) = \\beta. $$"
   ]
  },
  {
   "cell_type": "markdown",
   "metadata": {
    "slideshow": {
     "slide_type": "slide"
    }
   },
   "source": [
    "# Metoda strzalow\n",
    "\n",
    "Naturalna metoda rozwiazania zagadnienia brzegowego jest zamiana go na zagadnienie poczatkowe z gory dobrana wartoscia poczatkowa $\\dot{x}(a) = \\alpha$. Rozwiazujemy to nowe zagadnienie, jesli wybor $\\dot{x}(a)$ byl dobry to $x(b) = \\beta$. W przeciwnym razie powtarzamy procedure. Na tym z grubsza polega metoda strzalow."
   ]
  },
  {
   "cell_type": "markdown",
   "metadata": {
    "slideshow": {
     "slide_type": "slide"
    }
   },
   "source": [
    "Mamy nastepujace zagadnienie brzegowe\n",
    "\n",
    "$$ \\ddot{x}(t) = f(t,x,\\dot{x}), \\quad x(a) = \\alpha, \\quad x(b) = \\beta. $$\n",
    "\n",
    "Niech $z$ bedzie probna wartoscia $\\dot{x}(a)$, a $x_z$ rozwiazaniem probnego zagadnienia poczatkowego\n",
    "\n",
    "$$ \\ddot{x}(t) = f(t,x,\\dot{x}), \\quad x(a) = \\alpha, \\quad \\dot{x}(a) = z. $$\n",
    "\n",
    "Celem jest taki wybor $z$, aby $x_z(b) = \\beta$. Inaczej mowiac szukamy rozwiazania rownania $\\varphi(z) = 0$, gdzie\n",
    "\n",
    "$$ \\varphi(z) = x_z(b) - \\beta. $$\n",
    "\n",
    "W tym celu mozna stosowac np. metode bisekcji albo Newtona."
   ]
  },
  {
   "cell_type": "markdown",
   "metadata": {
    "slideshow": {
     "slide_type": "slide"
    }
   },
   "source": [
    "Metoda Newtona wyraza sie wzorem\n",
    "$$ z_{n+1} = z_n - \\frac{\\varphi(z_n)}{\\varphi'(z_n)}. $$\n",
    "\n",
    "Aby ja zastosowac potrzebujemy wyrazenie na $\\varphi'(z_n)$. Zrozniczkujmy wyjsciowe zagadnienie poczatkowe po $z$\n",
    "\n",
    "$$ \\frac{\\partial \\ddot{x}}{\\partial z} = \\frac{\\partial f}{\\partial x}\\frac{\\partial x}{\\partial z} + \\frac{\\partial f}{\\partial \\dot{x}}\\frac{\\partial \\dot{x}}{\\partial z}, \\quad \\frac{\\partial x(a)}{\\partial z} = 0, \\quad \\frac{\\partial \\dot{x}(a)}{\\partial z} = 1. $$\n",
    "\n",
    "Wprowadzmy oznaczenie $v = \\partial x/\\partial z$. Wtedy mamy rownanie\n",
    "\n",
    "$$ \\ddot{v} = \\frac{\\partial f}{\\partial x}v + \\frac{\\partial f}{\\partial \\dot{x}}\\dot{v}, \\quad v(a) = 0, \\quad \\dot{v}(a) = 1. $$\n",
    "\n",
    "Rozwiazujac je otrzymujemy na koncu wartosc $v(b) = \\partial x(b)/\\partial z = \\varphi'(z)$."
   ]
  },
  {
   "cell_type": "markdown",
   "metadata": {
    "slideshow": {
     "slide_type": "slide"
    }
   },
   "source": [
    "# Uklady rownan rozniczkowych liniowych\n",
    "\n",
    "Rozwazmy autonomiczny uklad rownan rozniczkowych liniowych w postaci\n",
    "\n",
    "$$ \\dot{x}_i(t) = \\sum_{j=1}^{n} a_{ij} x_j(t), \\quad (1 \\leq i \\leq n), $$\n",
    "\n",
    "co w zapisie macierzowym daje wzor\n",
    "\n",
    "$$ \\dot{X}(t) = AX(t), $$\n",
    "\n",
    "gdzie $A = (a_{ij})$, $X(t) = (x_1(t), x_2(t), ..., x_n(t))$ oraz $\\dot{X}(t) = (\\dot{x}_1(t), \\dot{x}_2(t), ..., \\dot{x}_n(t))$,"
   ]
  },
  {
   "cell_type": "markdown",
   "metadata": {
    "slideshow": {
     "slide_type": "slide"
    }
   },
   "source": [
    "Rozwiazaniem zagadnienia poczatkowego \n",
    "\n",
    "$$ \\dot{X}(t) = AX(t), \\quad X(0) = X_0$$\n",
    "\n",
    "jest wektor $X(t) = e^{At}X_0$. Problem sprowadza sie zatem do obliczenia eksponenty macierzy $e^{At}$. Najprostsza z metod, ale za to nieefektywna jest bezposrednia definicja\n",
    "\n",
    "$$ e^{At} = I + At + \\frac{1}{2!}(At)^2 + \\frac{1}{3!}(At)^3 + ... $$\n",
    "\n",
    "Do innych sposob naleza m.in. kanoniczna dekompozycja Jordana albo algorytm Putzera. Zainteresowanych odsylam do artykulu C. Moler and Ch. van Loan, Nineteen Dubious Ways to Compute the Exponential of a Matrix, Twenty-Five Years Later, SIAM Rev. 45, 3-49 (2003)."
   ]
  },
  {
   "cell_type": "markdown",
   "metadata": {
    "slideshow": {
     "slide_type": "slide"
    }
   },
   "source": [
    "# Rownania sztywne\n",
    "\n",
    "Sztywnosc rownania rozniczkowego oznacza szybkie zanikanie rozwiazania w miare wzrostu czasu $t$. Wowczas metody numeryczne, na ogol bardzo skuteczne, zawodza. Zdarza sie tak, gdy stabilnosc rozwiazania mozna uzyskac tylko dla bardzo malego $h$. Ma to zwiazek z sytuacja, gdy w ukladzie fizycznym skale czasowe moga bardzo sie od siebie roznic."
   ]
  },
  {
   "cell_type": "markdown",
   "metadata": {
    "slideshow": {
     "slide_type": "slide"
    }
   },
   "source": [
    "Jako przyklad rozwazmy metode Eulera dla zagadnienia poczatkowego\n",
    "\n",
    "$$ \\dot{x}(t) = f(t,x), \\quad x(t_0) = x_0, $$\n",
    "\n",
    "dla ktorego sprowadza sie ona do stosowania wzoru\n",
    "\n",
    "$$ x_{n+1} = x_n + f(t_n,x_n)h, \\quad t_n = t_0 + nh. $$"
   ]
  },
  {
   "cell_type": "markdown",
   "metadata": {
    "slideshow": {
     "slide_type": "slide"
    }
   },
   "source": [
    "Sprawdzmy jej dzialanie dla \n",
    "\n",
    "$$ \\dot{x}(t) = \\lambda x, \\quad x(0) = 1. $$\n",
    "\n",
    "Oczywiscie wtedy $x_{n+1} = x_n + \\lambda x_nh = (1 + \\lambda h)x_n$,\n",
    "\n",
    "$$ x_n = (1 + \\lambda h)^n. $$\n",
    "\n",
    "Dokladne rozwiazanie jest rowne $x(t) = e^{\\lambda t}$. Dla $\\lambda < 0$ i $t \\to \\infty$, $x(t) \\to 0$. Taka sama wlasnosc ma rozwiazanie numeryczne, ale tylko wowczas, kiedy $|1 + \\lambda h| < 1$, co daje ograniczenie $h < -2/\\lambda$. Przykladowo dla $\\lambda = -20$ musi byc $h < 0.1$.\n",
    "\n",
    "Zauwazmy, ze rozwiazanie jest skrajnie plaskie wokol $t_0=0$, gdzie $x=1$. Rzeczywiscie $x(t) = e^{-20t}$. W obliczeniach musimy stosowac male kroki tam, gdzie charakter rozwiazania zacheca nas do stosowania duzych krokow."
   ]
  },
  {
   "cell_type": "markdown",
   "metadata": {
    "slideshow": {
     "slide_type": "slide"
    }
   },
   "source": [
    "Standardowa metoda Eulera nie nadaje sie zatem do takiego typu rownan. Jej modyfikacja\n",
    "\n",
    "$$ x_{n+1} = x_n + f(t_{n+1}, x_{n+1}) $$\n",
    "\n",
    "nazywa sie niejawna metoda Eulera. Dla naszego zagadnienia sprowadza sie do\n",
    "\n",
    "$$ x_{n+1} = x_n + \\lambda h x_{n+1}, $$\n",
    "\n",
    "skad $x_{n+1} = (1 - \\lambda h)^{-1} x_n$ oraz\n",
    "\n",
    "$$ x_n = (1 - \\lambda h)^{-n}. $$\n",
    "\n",
    "Dla $\\lambda < 0$ musi byc $|1 - \\lambda h|^{-1} < 1$, a tak jest dla dowolnego $h > 0$."
   ]
  }
 ],
 "metadata": {
  "celltoolbar": "Slideshow",
  "kernelspec": {
   "display_name": "SageMath 7.3",
   "language": "",
   "name": "sagemath"
  },
  "language_info": {
   "codemirror_mode": {
    "name": "ipython",
    "version": 2
   },
   "file_extension": ".py",
   "mimetype": "text/x-python",
   "name": "python",
   "nbconvert_exporter": "python",
   "pygments_lexer": "ipython2",
   "version": "2.7.10"
  }
 },
 "nbformat": 4,
 "nbformat_minor": 1
}
