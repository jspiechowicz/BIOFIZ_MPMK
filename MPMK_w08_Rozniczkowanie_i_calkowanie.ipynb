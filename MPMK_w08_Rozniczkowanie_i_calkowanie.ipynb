{
 "cells": [
  {
   "cell_type": "markdown",
   "metadata": {
    "slideshow": {
     "slide_type": "slide"
    }
   },
   "source": [
    "# Matematyczne podstawy modelowania komputerowego\n",
    "\n",
    "Jakub Spiechowicz\n",
    "\n",
    "Wyklad 08, Rozniczkowanie i calkowanie numeryczne"
   ]
  },
  {
   "cell_type": "markdown",
   "metadata": {
    "slideshow": {
     "slide_type": "slide"
    }
   },
   "source": [
    "# Pochodna pierwszego rzedu\n",
    "\n",
    "Przypomnijmy definicje pochodnej pierwszego rzedu\n",
    "\n",
    "$$ f'(x) = \\lim_{h \\to 0} \\frac{f(x + h) - f(x)}{h}, $$\n",
    "\n",
    "ktora jednoczesnie dla skonczonego i malego $h$ stanowi formule aproksymacjna\n",
    "\n",
    "$$ f'(x) \\approx \\frac{f(x+h) - f(x)}{h}. $$"
   ]
  },
  {
   "cell_type": "markdown",
   "metadata": {
    "slideshow": {
     "slide_type": "slide"
    }
   },
   "source": [
    "To samo wyrazenie mozemy wyprowadzic przy uzyciu szeregu Taylora\n",
    "\n",
    "$$ f(x + h) = f(x) + f'(x)h + \\frac{h^2}{2}f''(\\xi) $$\n",
    "\n",
    "dla pewnego $\\xi \\in (x, x+h)$, skad\n",
    "\n",
    "$$ f'(x) = \\frac{f(x+h) - f(x)}{h} - \\frac{h}{2}f''(\\xi) = \\frac{f(x+h) - f(x)}{h} + \\mathcal{O}(h). $$"
   ]
  },
  {
   "cell_type": "markdown",
   "metadata": {
    "slideshow": {
     "slide_type": "slide"
    }
   },
   "source": [
    "Przyklad"
   ]
  },
  {
   "cell_type": "code",
   "execution_count": 15,
   "metadata": {
    "collapsed": false,
    "slideshow": {
     "slide_type": "fragment"
    }
   },
   "outputs": [
    {
     "name": "stdout",
     "output_type": "stream",
     "text": [
      "h numerical approx error estimate\n",
      "0.050000000 -0.22308312 0.0244137918168744\n",
      "0.025000000 -0.21089883 0.0122295000968667\n",
      "0.012500000 -0.20478949 0.00612016271382221\n",
      "0.0062500000 -0.20173074 0.00306140466839555\n",
      "0.0031250000 -0.20020036 0.00153102942679528\n",
      "0.0015625000 -0.19943493 0.000765596019372095\n",
      "0.00078125000 -0.19905215 0.000382818277652075\n",
      "0.00039062500 -0.19886074 0.000191414198392192\n",
      "0.00019531250 -0.19876504 0.0000957083633271738\n",
      "0.000097656250 -0.19871719 0.0000478544974190642\n"
     ]
    }
   ],
   "source": [
    "f(x)= cos(x)\n",
    "fp(x) = diff(f(x),x)\n",
    "x0 = 0.2\n",
    "print \"h\", \"numerical approx\", \"error estimate\"   \n",
    "for step in [1,2,..10]:\n",
    "    h = 0.1/(2^step)\n",
    "    df(x)=(f(x+h)-f(x))/h\n",
    "    error = fp(x0)-df(x0)\n",
    "    print h.n(30),df(x0).n(30),error"
   ]
  },
  {
   "cell_type": "markdown",
   "metadata": {
    "slideshow": {
     "slide_type": "slide"
    }
   },
   "source": [
    "Zeby poprawic rzad zbieznosci metody powrocmy do szeregu Taylora\n",
    "\n",
    "$$ f(x + h) = f(x) + f'(x)h + \\frac{h^2}{2}f''(x) + \\frac{h^3}{6} f'''(\\xi_1), $$\n",
    "\n",
    "gdzie $\\xi_1 \\in (x,x+h)$. Podobnie\n",
    "\n",
    "$$ f(x - h) = f(x) - f'(x)h + \\frac{h^2}{2}f''(x) - \\frac{h^3}{6} f'''(\\xi_2), $$\n",
    "\n",
    "a stad\n",
    "\n",
    "\\begin{align}\n",
    "f'(x) &= \\frac{f(x + h) - f(x - h)}{2h} - \\frac{h^2}{12}( f'''(\\xi_1) - f'''(\\xi_2) ) \\\\ &= \\frac{f(x + h) - f(x - h)}{2h} + \\mathcal{O}(h^2).\n",
    "\\end{align}\n",
    "\n",
    "Powzszy wzor nazywa sie pochodna centralna."
   ]
  },
  {
   "cell_type": "markdown",
   "metadata": {
    "slideshow": {
     "slide_type": "slide"
    }
   },
   "source": [
    "Przyklad"
   ]
  },
  {
   "cell_type": "code",
   "execution_count": 16,
   "metadata": {
    "collapsed": false,
    "slideshow": {
     "slide_type": "fragment"
    }
   },
   "outputs": [
    {
     "name": "stdout",
     "output_type": "stream",
     "text": [
      "h numerical approx error estimate\n",
      "0.050000000 -0.19858656 -0.000082768541\n",
      "0.025000000 -0.19864864 -0.000020694075\n",
      "0.012500000 -0.19866416 -5.1736401e-6\n",
      "0.0062500000 -0.19866804 -1.2934176e-6\n",
      "0.0031250000 -0.19866901 -3.2335486e-7\n",
      "0.0015625000 -0.19866925 -8.0838751e-8\n",
      "0.00078125000 -0.19866931 -2.0209674e-8\n",
      "0.00039062500 -0.19866933 -5.0526036e-9\n",
      "0.00019531250 -0.19866933 -1.2629665e-9\n",
      "0.000097656250 -0.19866933 -3.1527303e-10\n"
     ]
    }
   ],
   "source": [
    "f(x)= cos(x)\n",
    "fp(x) = diff(f(x),x)\n",
    "x0 = 0.2\n",
    "print \"h\", \"numerical approx\", \"error estimate\"   \n",
    "for step in [1,2,..10]:\n",
    "    h = 0.1/(2^step)\n",
    "    df(x)=(f(x+h)-f(x-h))/(2*h)\n",
    "    error = fp(x0)-df(x0)\n",
    "    print h.n(30),df(x0).n(30),error.n(30)"
   ]
  },
  {
   "cell_type": "markdown",
   "metadata": {
    "slideshow": {
     "slide_type": "slide"
    }
   },
   "source": [
    "# Pochodna drugiego rzedu\n",
    "\n",
    "W podobny sposob otrzymamy wzor na przyblizenie drugiej pochodnej:\n",
    "\n",
    "$$ f(x + h) = f(x) + f'(x)h + \\frac{h^2}{2}f''(x) + \\frac{h^3}{6} f'''(x) + \\frac{h^4}{24} f^{(4)}(\\xi_1) $$\n",
    "\n",
    "dla $\\xi_1 \\in (x,x+h)$ oraz\n",
    "\n",
    "$$ f(x - h) = f(x) - f'(x)h + \\frac{h^2}{2}f''(x) - \\frac{h^3}{6} f'''(x) + \\frac{h^4}{24} f^{(4)}(\\xi_2) $$\n",
    "\n",
    "dlatego \n",
    "\n",
    "\\begin{align}\n",
    "f''(x) &= \\frac{f(x+h) - 2f(x) + f(x-h)}{h^2} - \\frac{h^2}{24}( f^{(4)}(\\xi_1) - f^{(4)}(\\xi_2) ) \\\\&= \\frac{f(x+h) - 2f(x) + f(x-h)}{h^2} + \\mathcal{O}{(h^2)}.\n",
    "\\end{align}"
   ]
  },
  {
   "cell_type": "markdown",
   "metadata": {
    "slideshow": {
     "slide_type": "slide"
    }
   },
   "source": [
    "# Zadanie\n",
    "\n",
    "Wyznaczyc numerycznie druga pochodna funkcji $\\cos{x}$ w punkcie $x_0 = 0$. Oszacowac blad i rzad zbieznosci metody."
   ]
  },
  {
   "cell_type": "markdown",
   "metadata": {
    "slideshow": {
     "slide_type": "slide"
    }
   },
   "source": [
    "# Zastosowanie interpolacji wielomianowej\n",
    "\n",
    "Ogolna metoda rozniczkowania numerycznego moze bazowac na interpolacji wielomianowej. Zastosujmy wzor Lagrange'a\n",
    "\n",
    "$$ f(x) \\approx \\sum_{i=0}^n f(x_i)l_i(x), $$\n",
    "\n",
    "gdzie $l_i(x) = \\prod_{j=0, j \\neq i}^n \\frac{x - x_j}{x_i - x_j}, 0 \\leq i \\leq n$. Stad\n",
    "\n",
    "$$ f'(x) = \\sum_{i=0}^n f(x_i)l_i'(x). $$\n",
    "\n",
    "Ten wzor daje wartosc przyblizona pochodnej. Warto go stosowac jezeli wezly $x_i$ nie sa rownoodlegle."
   ]
  },
  {
   "cell_type": "markdown",
   "metadata": {
    "slideshow": {
     "slide_type": "slide"
    }
   },
   "source": [
    "# Ekstrapolacja Richardsona\n",
    "\n",
    "Zilustrujemy teraz w jaki sposob mozemy poprawic dokladnosc wzorow przyblizonych na pochodna funkcji wynikajacych z rozwiniecia w szereg Taylora\n",
    "\n",
    "$$ f(x \\pm h) = \\sum_{k=0}^{\\infty} \\frac{(\\pm 1)^k}{k!}f^{(k)}(x)h^k. $$\n",
    "\n",
    "Odejmujac stronami te dwa rownania otrzymujemy\n",
    "\n",
    "\\begin{align}\n",
    "f'(x) &= \\frac{1}{2h}\\left[ f(x+h) - f(x-h)\\right] \\\\&- \\left[\\frac{1}{3!}h^2f^{(3)}(x) + \\frac{1}{5!}h^4f^{(5)}(x) + \\frac{1}{7!}h^6f^{(7)}(x) \\,+ \\,...\\right]\n",
    "\\end{align}"
   ]
  },
  {
   "cell_type": "markdown",
   "metadata": {
    "slideshow": {
     "slide_type": "slide"
    }
   },
   "source": [
    "Zapiszmy to rownanie jako\n",
    "\n",
    "$$ L = \\varphi(h) + \\alpha_2 h^2 + \\alpha_4 h^4 + \\alpha_6 h^6 + \\,... $$\n",
    "\n",
    "Mozemy poprawic rzad zbieznosci metody obliczajac\n",
    "\n",
    "$$ 4L = 4 \\varphi(h/2) + \\alpha_2 h^2 + \\alpha_4 h^4/4 + \\alpha_6 h^6/16 \\,+ \\,... $$\n",
    "\n",
    "oraz odejmujac go od pierwotnego i dzielac przez 3\n",
    "\n",
    "$$ L = \\frac{4}{3} \\varphi(h/2) - \\frac{1}{3}\\varphi(h) - \\alpha_4 h^4/4 - 5 a_6 h^6/16\\, +\\,... $$\n",
    "\n",
    "Wykonalismy pierwszy krok ekstrapolacji Richardsona. W wyniku otrzymalismy metode rzedu $\\mathcal{O}(h^4)$. Mozna kontynuowac to postepowanie wedle potrzeb."
   ]
  },
  {
   "cell_type": "markdown",
   "metadata": {
    "slideshow": {
     "slide_type": "slide"
    }
   },
   "source": [
    "# Calka Riemanna\n",
    "\n",
    "Przypomnijmy definicje calki Riemanna\n",
    "\n",
    "$$ \\int_a^b dx \\,f(x) = \\lim_{n \\to \\infty} \\sum_{i=0}^{n-1} f(\\xi)(x_{i+1} - x_i), $$\n",
    "\n",
    "przy czym $a = x_0 < x_1 < x_2 < ... < x_n = b$, a $\\xi \\in (x_i,x_{i+1})$. \n",
    "\n",
    "Z powyzszego wzoru dla skonczonego $n$ otrzymujemy bezposrednio przyblizenie calki\n",
    "\n",
    "$$  \\int_a^b dx \\,f(x) \\approx \\sum_{i=0}^{n-1} f(\\xi)(x_{i+1} - x_i). $$"
   ]
  },
  {
   "cell_type": "markdown",
   "metadata": {
    "slideshow": {
     "slide_type": "slide"
    }
   },
   "source": [
    "Wybor\n",
    "\n",
    "* $\\xi = x_i$ prowadzi do metody prostokatow\n",
    "* $\\xi = (x_{i+1} + x_i)/2$ do tzw. metody punktu srodkowego\n",
    "\n",
    "Obydwa warianty sa rzedu pierwszego $\\mathcal{O}(h=x_{i+1}-x_i)$."
   ]
  },
  {
   "cell_type": "markdown",
   "metadata": {
    "slideshow": {
     "slide_type": "slide"
    }
   },
   "source": [
    "# Zadanie\n",
    "\n",
    "Porownac dzialanie metody prostokatow i punktu srodkowego dla calki \n",
    "\n",
    "$$ \\int_{1}^{e} \\,dx \\frac{1}{x} $$\n",
    "\n",
    "oraz wyznaczyc blad jej przyblizenia."
   ]
  },
  {
   "cell_type": "markdown",
   "metadata": {
    "slideshow": {
     "slide_type": "slide"
    }
   },
   "source": [
    "# Zastosowanie interpolacji wielomianowej \n",
    "\n",
    "W celu numerycznego obliczania calek oznaczonych mozemy wykorzystac wyniki otrzymane w ramach teorii interpolacji wielomianowej, tj.\n",
    "\n",
    "$$ f(x) \\approx \\sum_{i=0}^n f(x_i)l_i(x), $$\n",
    "\n",
    "gdzie $l_i(x) = \\prod_{j=0, j \\neq i}^n \\frac{x - x_j}{x_i - x_j}, 0 \\leq i \\leq n$. Stad\n",
    "\n",
    "$$ \\int_a^b \\,dx f(x) \\approx \\int_a^b \\, dx \\sum_{i=0}^n f(x_i)l_i(x) = \\sum_{i=0}^n f(x_i) \\int_a^b \\,dx \\,l_i(x). $$"
   ]
  },
  {
   "cell_type": "markdown",
   "metadata": {
    "slideshow": {
     "slide_type": "slide"
    }
   },
   "source": [
    "Jest to szczegolny wariant typowego wzoru calkowania numerycznego zwanego kwadratura\n",
    "\n",
    "$$ \\int_a^b \\, dx f(x) \\approx \\sum_{i=0}^n A_i f(x_i), $$\n",
    "\n",
    "gdzie w tym przypadku\n",
    "\n",
    "$$ A_i = \\int_a^b \\, dx \\, l_i(x). $$\n",
    "\n",
    "Jezeli dodatkowo zalozymy, ze $x_i = a + (b-a)i/n$ dla $0 \\leq i \\leq n$ to otrzymamy tzw. wzor Newtona-Cotesa."
   ]
  },
  {
   "cell_type": "markdown",
   "metadata": {
    "slideshow": {
     "slide_type": "slide"
    }
   },
   "source": [
    "Najprostszy wariant tej formuly dla $n = 1$ nazywa sie metoda trapezow. Wowczas $x_0 = a$, $x_1 = b$ oraz\n",
    "\n",
    "$$l_0(x) = \\frac{b-x}{b-a}, \\quad l_1(x) = \\frac{x - a}{b-a}. $$\n",
    "\n",
    "dlatego\n",
    "\n",
    "$$A_0 = \\int_a^b \\,dx\\,l_0(x) = \\frac{1}{2}(b - a), \\, A_1 = \\int_a^b \\,dx\\,l_1(x) = \\frac{1}{2}(b-a),$$\n",
    "\n",
    "co daje\n",
    "\n",
    "$$ \\int_a^b \\,dx\\,f(x) \\approx \\frac{1}{2}(b - a)(f(a) + f(b)). $$"
   ]
  },
  {
   "cell_type": "markdown",
   "metadata": {
    "slideshow": {
     "slide_type": "slide"
    }
   },
   "source": [
    "W praktyce metode trapezow stosujemy do kazdego z podprzedzialow $a = x_0 < x_1 < x_2 < ... < x_n = b$ otrzymujac tzw. zlozona metoda trapezow\n",
    "\n",
    "\\begin{align}\n",
    "\\int_a^b \\, dx \\, f(x) &= \\sum_{i=1}^{n} \\int_{x_{i-1}}^{x_i} \\, dx \\, f(x) \\\\ &\\approx \\frac{1}{2} \\sum_{i=1}^{n} (x_i - x_{i-1})(f(x_{i-1}) + f(x_i)).\n",
    "\\end{align}\n",
    "\n",
    "Mozemy dodatkowo uproscic ten wzor zakladajac, ze $x_i = a + ih$ oraz $h = (b-a)/n$. Wtedy\n",
    "\n",
    "$$ \\int_a^b \\,dx\\, f(x) \\approx \\frac{1}{2}h\\left[f(a) + 2\\sum_{i=1}^{n-1}f(a + ih) + f(b)\\right]. $$\n",
    "\n",
    "Metoda trapezow jest rzedu $\\mathcal{O}(h^2)$."
   ]
  },
  {
   "cell_type": "markdown",
   "metadata": {
    "slideshow": {
     "slide_type": "slide"
    }
   },
   "source": [
    "Przyklad\n",
    "\n",
    "$$ \\int_0^1 \\, dx \\, e^{-x^2}. $$"
   ]
  },
  {
   "cell_type": "code",
   "execution_count": 4,
   "metadata": {
    "collapsed": true,
    "slideshow": {
     "slide_type": "fragment"
    }
   },
   "outputs": [],
   "source": [
    "def CompositeTrapezoidal(f, a, b, n):\n",
    "    h = (b-a)/n\n",
    "    sum = 1/2*f(a)\n",
    "    for i in [1,2,..,n-1] :\n",
    "        sum += f(a+i*h)\n",
    "    sum +=1/2*f(b)\n",
    "    sum = sum*h\n",
    "    return sum"
   ]
  },
  {
   "cell_type": "code",
   "execution_count": 9,
   "metadata": {
    "collapsed": false,
    "slideshow": {
     "slide_type": "fragment"
    }
   },
   "outputs": [
    {
     "data": {
      "text/html": [
       "<html><script type=\"math/tex; mode=display\">\\newcommand{\\Bold}[1]{\\mathbf{#1}}0.746764254652294</script></html>"
      ],
      "text/plain": [
       "0.746764254652294"
      ]
     },
     "metadata": {},
     "output_type": "display_data"
    },
    {
     "data": {
      "text/html": [
       "<html><script type=\"math/tex; mode=display\">\\newcommand{\\Bold}[1]{\\mathbf{#1}}0.746824132812427</script></html>"
      ],
      "text/plain": [
       "0.746824132812427"
      ]
     },
     "metadata": {},
     "output_type": "display_data"
    }
   ],
   "source": [
    "f(x) = e^(-x^2)\n",
    "n = 32\n",
    "show(CompositeTrapezoidal(f,0,1,n).n())\n",
    "show(integral(f(x),0,1).n())"
   ]
  },
  {
   "cell_type": "markdown",
   "metadata": {
    "slideshow": {
     "slide_type": "slide"
    }
   },
   "source": [
    "Stosujac wzor Newtona-Cotesa dla $n=2$ oraz $x_0 = a$, $x_1 = (a+b)/2$, $x_2 = b$ otrzymamy metode Simpsona, ktora bazuje na interpolacji funkcji podcalkowej wielomianem kwadratowym. Wtedy\n",
    "\n",
    "\\begin{align}\n",
    "&l_0(x) = \\frac{x-\\frac{a+b}{2}}{a-\\frac{a+b}{2}}\\frac{x-b}{a-b} \\\\&l_1(x) = \\frac{x-a}{\\frac{a+b}{2}-a}\\frac{x-b}{\\frac{a+b}{2}-b} \\\\&l_2(x) = \\frac{x-a}{b-a}\\frac{x-\\frac{a+b}{2}}{b-\\frac{a+b}{2}}\n",
    "\\end{align}"
   ]
  },
  {
   "cell_type": "markdown",
   "metadata": {
    "slideshow": {
     "slide_type": "slide"
    }
   },
   "source": [
    "Taki wybor prowadzi do metody Simpsona\n",
    "\n",
    "$$ \\int_a^b \\,dx\\,f(x) \\approx \\frac{1}{6}(b-a)\\left[f(a) + 4f\\left(\\frac{a+b}{2}\\right) + f(b)\\right], $$\n",
    "\n",
    "na bazie ktorej mozemy wyprowadzic zlozona metode Simpsona\n",
    "\n",
    "$${\\small \\int_a^b \\,dx\\,f(x) \\approx \\frac{1}{3}h\\left[f(x_0) + 4\\sum_{i=1}^n f(x_{2i-1}) + 2\\sum_{i=1}^{n-1} f(x_{2i}) + f(x_{2n})\\right].}$$\n",
    "\n",
    "Metoda Simpsona jest rzedu $\\mathcal{O}(h^4)$ przy czym $h = (b-a)/n.$"
   ]
  },
  {
   "cell_type": "markdown",
   "metadata": {
    "slideshow": {
     "slide_type": "slide"
    }
   },
   "source": [
    "# Kwadratury Gaussa\n",
    "\n",
    "Przypomnijmy, ze kwadratura nazywalismy wyrazenie \n",
    "\n",
    "$$ \\int_a^b \\, dx \\, f(x) \\approx \\sum_{i=0}^n A_i f(x_i), $$\n",
    "\n",
    "bedace szczegolnym przypadkiem kwadratury\n",
    "\n",
    "$$ \\int_a^b \\, dx \\, f(x)w(x) \\approx \\sum_{i=0}^n A_i f(x_i), $$\n",
    "\n",
    "gdzie $w(x) \\equiv 1$."
   ]
  },
  {
   "cell_type": "markdown",
   "metadata": {
    "slideshow": {
     "slide_type": "slide"
    }
   },
   "source": [
    "Naturalnie nasuwa sie pytanie czy pewne uklady wezlow interpolacji funkcji podcalkowej nie sa w jakims sensie lepsze od innych. Dobry bylby wzor calkowania, w ktorym $A_i = A$. Wowczas\n",
    "\n",
    "$$ \\int_a^b \\, dx \\, f(x)w(x) \\approx A \\sum_{i=0}^n f(x_i). $$"
   ]
  },
  {
   "cell_type": "markdown",
   "metadata": {
    "slideshow": {
     "slide_type": "slide"
    }
   },
   "source": [
    "W najprostrzym przypadku gdy $w(x) = 1$ taki wzor, zwany kwadratura Czebyszewa, istnieje tylko dla $n = 0, 1, ..., 6$ i $n = 8$. W szczegolnosci dla $n=4$ ma postac\n",
    "\n",
    "$$ \\int_{-1}^{1} \\,dx \\,f(x) \\approx \\frac{2}{5}[f(-\\alpha) + f(-\\beta) + f(0) + f(\\beta) + f(\\alpha)], $$\n",
    "\n",
    "gdzie\n",
    "\n",
    "$\\alpha = \\sqrt{(5+\\sqrt{11})/12}$, a $\\beta = \\sqrt{(5-\\sqrt{11})/12}$."
   ]
  },
  {
   "cell_type": "markdown",
   "metadata": {
    "slideshow": {
     "slide_type": "slide"
    }
   },
   "source": [
    "Dla funkcji wagowej $w(x) = (1-x^2)^{-1/2}$ taki wzor istnieje dla dowolnego $n \\geq 0$ i ma postac kwadratury Hermita\n",
    "\n",
    "$$ \\int_{-1}^{1} \\,dx \\,f(x)(1-x^2)^{-1/2} \\approx \\frac{\\pi}{n+1}\\sum_{i=0}^{n}f\\left(\\cos{\\frac{(2i+1)\\pi}{2(n+1)}}\\right). $$"
   ]
  },
  {
   "cell_type": "markdown",
   "metadata": {
    "slideshow": {
     "slide_type": "slide"
    }
   },
   "source": [
    "Kwadratura Gaussa nazywamy wzor przyblizony calkowania\n",
    "\n",
    "$$ \\int_a^b \\, dx \\, f(x)w(x) \\approx \\sum_{i=0}^n A_i f(x_i), $$\n",
    "\n",
    "o wspolczynnikach wynikajacych ze wzoru interpolacyjnego Lagrange'a\n",
    "\n",
    "$$ A_i = \\int_a^b \\, dx \\, \\prod_{j=0, j \\neq i}^n \\frac{x - x_j}{x_i - x_j}w(x), \\quad 0 \\leq i \\leq n. $$\n",
    "\n",
    "Gauss sformulowal i rozwiazal zadanie poszukiwania takiego wzoru dla $w(x) \\equiv 1$."
   ]
  },
  {
   "cell_type": "markdown",
   "metadata": {
    "slideshow": {
     "slide_type": "slide"
    }
   },
   "source": [
    "Przykladowo dla $[a,b]=[-1,1]$ oraz $n = 1$ mamy\n",
    "\n",
    "$$ \\int_{-1}^{1} \\, dx \\,f(x) = f(-1/\\sqrt{3}) + f(1/\\sqrt{3}). $$\n",
    "\n",
    "Wezly i wspolczynniki wielu wzorow calkowania metoda kwadratur Gaussa mozna latwo znalezc w internecie. Dla dostatecznie regularnych funkcji $f$ nawet nieduze $n$ zapewnia rozsadna dokladnosc. "
   ]
  }
 ],
 "metadata": {
  "celltoolbar": "Slideshow",
  "kernelspec": {
   "display_name": "SageMath 7.3",
   "language": "",
   "name": "sagemath"
  },
  "language_info": {
   "codemirror_mode": {
    "name": "ipython",
    "version": 2
   },
   "file_extension": ".py",
   "mimetype": "text/x-python",
   "name": "python",
   "nbconvert_exporter": "python",
   "pygments_lexer": "ipython2",
   "version": "2.7.10"
  }
 },
 "nbformat": 4,
 "nbformat_minor": 1
}
