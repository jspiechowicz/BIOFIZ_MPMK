{
 "cells": [
  {
   "cell_type": "markdown",
   "metadata": {
    "slideshow": {
     "slide_type": "slide"
    }
   },
   "source": [
    "# Matematyczne podstawy modelowania komputerowego\n",
    "\n",
    "Jakub Spiechowicz\n",
    "\n",
    "Wyklad 05, Uklady rownan liniowych"
   ]
  },
  {
   "cell_type": "markdown",
   "metadata": {
    "slideshow": {
     "slide_type": "slide"
    }
   },
   "source": [
    "# Sformulowanie problemu\n",
    "\n",
    "Glownym celem niniejszego wykladu jest przedstawienie aspektow numerycznych rozwiazywania ukladow rownan liniowych w postaci\n",
    "\n",
    "\\begin{align}\n",
    "    a_{11}x_1 + a_{12}x_2 + ... + a_{1n}x_n &= b_1 \\nonumber\\\\\n",
    "    a_{21}x_1 + a_{22}x_2 + ... + a_{2n}x_n &= b_2 \\nonumber\\\\\n",
    "    .........................&..... \\nonumber\\\\\n",
    "    a_{n1}x_1 + a_{n2}x_2 + ... + a_{nn}x_n &= b_n \\nonumber\n",
    "\\end{align}\n",
    "\n",
    "Jest to uklad $n$ rownan z $n$ niewiadomymi $x_1$, $x_2$, ..., $x_n$, przy czym $a_{ij} \\in \\mathbb{R}$, $b_j \\in \\mathbb{R}$ oraz $x_1, x_2, ..., x_n \\in \\mathbb{R}$."
   ]
  },
  {
   "cell_type": "markdown",
   "metadata": {
    "slideshow": {
     "slide_type": "slide"
    }
   },
   "source": [
    "Zauwazmy, ze powyzszy uklad mozna wyrazic w postaci\n",
    "\n",
    "$$\n",
    "\\left[\n",
    "\\begin{array}{cccc}\n",
    "a_{11} & a_{12} & \\ldots & a_{1n}\\\\ \n",
    "a_{21} & a_{22} & \\ldots & a_{2n}\\\\\n",
    "\\ldots & \\ldots & \\ldots & \\ldots\\\\\n",
    "a_{n1} & a_{n2} & \\ldots & a_{nn}\n",
    "\\end{array}\n",
    "\\right]\n",
    "\\left[\n",
    "\\begin{array}{c}\n",
    "x_1 \\\\ \n",
    "x_2 \\\\\n",
    "\\ldots \\\\\n",
    "x_n\n",
    "\\end{array}\n",
    "\\right]\n",
    "=\n",
    "\\left[\n",
    "\\begin{array}{c}\n",
    "b_1 \\\\ \n",
    "b_2 \\\\\n",
    "\\ldots \\\\\n",
    "b_n\n",
    "\\end{array}\n",
    "\\right]\n",
    "$$\n",
    "\n",
    "a po oznaczeniu odpowiednich macierzy symbolami $A$, $x$ i $b$ - w postaci $Ax = b$. "
   ]
  },
  {
   "cell_type": "markdown",
   "metadata": {
    "slideshow": {
     "slide_type": "slide"
    }
   },
   "source": [
    "# Operacje elementarne na macierzach\n",
    "\n",
    "Niech beda dane dwa uklady $n$ rownan z $n$ niewiadomymi\n",
    "\n",
    "$$ Ax = b, \\qquad Bx = d $$\n",
    "\n",
    "Oczywiscie te uklady sa rownowazne jesli maja identyczne rozwiazania. \n",
    "\n",
    "Zamiast wyjsciowego ukladu rownan mozemy wiec rozwiazywac dowolny rownowazny mu uklad. Przeksztalcamy go za pomoca elementarnych operacji na prostszy uklad i dopiero wtedy rozwiazujemy."
   ]
  },
  {
   "cell_type": "markdown",
   "metadata": {
    "slideshow": {
     "slide_type": "slide"
    }
   },
   "source": [
    "Operacje elementarne dziela sie na trzy rodzaje ($\\epsilon_i$ oznacza $i$-te rownanie ukladu):\n",
    "\n",
    "* Przestawienie dwoch rownan w ukladzie $\\epsilon_i \\leftrightarrow \\epsilon_j$\n",
    "* Pomnozenie obu stron rownania przez liczbe rozna od 0: $\\lambda \\epsilon_i \\to \\epsilon_i$\n",
    "* Dodanie stronami do rownania wielokrotnosci innego rownania, $\\epsilon_i + \\lambda \\epsilon_j \\to \\epsilon_i, \\, i \\neq j$\n",
    "\n",
    "Operacje te mozna interpretowac jako mnozenie macierzy."
   ]
  },
  {
   "cell_type": "markdown",
   "metadata": {
    "slideshow": {
     "slide_type": "slide"
    }
   },
   "source": [
    "* Zamiana dwoch wierszy $\\epsilon_i \\leftrightarrow \\epsilon_j$\n",
    "\n",
    "$$\n",
    "\\left[\n",
    "\\begin{array}{ccc}\n",
    "1 & 0 & 0 \\\\ \n",
    "0 & 0 & 1 \\\\\n",
    "0 & 1 & 0 \\\\\n",
    "\\end{array}\n",
    "\\right]\n",
    "\\left[\n",
    "\\begin{array}{ccc}\n",
    "a_{11} & a_{12} & a_{13} \\\\ \n",
    "a_{21} & a_{22} & a_{23} \\\\\n",
    "a_{31} & a_{32} & a_{33} \\\\\n",
    "\\end{array}\n",
    "\\right]\n",
    "=\n",
    "\\left[\n",
    "\\begin{array}{ccc}\n",
    "a_{11} & a_{12} & a_{13} \\\\ \n",
    "a_{31} & a_{32} & a_{33} \\\\\n",
    "a_{21} & a_{22} & a_{23} \\\\\n",
    "\\end{array}\n",
    "\\right]\n",
    "$$"
   ]
  },
  {
   "cell_type": "markdown",
   "metadata": {
    "slideshow": {
     "slide_type": "slide"
    }
   },
   "source": [
    "* Mnozenie wiersza przez niezerowa stala $\\lambda \\epsilon_i \\to \\epsilon_i$\n",
    "\n",
    "$$\n",
    "\\left[\n",
    "\\begin{array}{ccc}\n",
    "1 & 0 & 0 \\\\ \n",
    "0 & \\lambda & 0 \\\\\n",
    "0 & 0 & 1 \\\\\n",
    "\\end{array}\n",
    "\\right]\n",
    "\\left[\n",
    "\\begin{array}{ccc}\n",
    "a_{11} & a_{12} & a_{13} \\\\ \n",
    "a_{21} & a_{22} & a_{23} \\\\\n",
    "a_{31} & a_{32} & a_{33} \\\\\n",
    "\\end{array}\n",
    "\\right]\n",
    "=\n",
    "\\left[\n",
    "\\begin{array}{ccc}\n",
    "a_{11} & a_{12} & a_{13} \\\\ \n",
    "\\lambda a_{21} & \\lambda a_{22} & \\lambda a_{23} \\\\\n",
    "a_{31} & a_{32} & a_{33} \\\\\n",
    "\\end{array}\n",
    "\\right]\n",
    "$$"
   ]
  },
  {
   "cell_type": "markdown",
   "metadata": {
    "slideshow": {
     "slide_type": "slide"
    }
   },
   "source": [
    "* Dodanie do wiersza wielokrotnosci innego wiersza $\\epsilon_i + \\lambda \\epsilon_j \\to \\epsilon_i, \\, i \\neq j$\n",
    "\n",
    "$$\n",
    "\\left[\n",
    "\\begin{array}{ccc}\n",
    "1 & 0 & 0 \\\\ \n",
    "0 & 1 & 0 \\\\\n",
    "0 & \\lambda & 1 \\\\\n",
    "\\end{array}\n",
    "\\right]\n",
    "\\left[\n",
    "\\begin{array}{ccc}\n",
    "a_{11} & a_{12} & a_{13} \\\\ \n",
    "a_{21} & a_{22} & a_{23} \\\\\n",
    "a_{31} & a_{32} & a_{33} \\\\\n",
    "\\end{array}\n",
    "\\right]\n",
    "=\n",
    "\\left[\n",
    "\\begin{array}{ccc}\n",
    "a_{11} & a_{12} & a_{13} \\\\ \n",
    "a_{21} & a_{22} & a_{23} \\\\\n",
    "\\lambda a_{21} + a_{31} & \\lambda a_{22} + a_{32} & \\lambda a_{23} + a_{33} \\\\\n",
    "\\end{array}\n",
    "\\right]\n",
    "$$"
   ]
  },
  {
   "cell_type": "markdown",
   "metadata": {
    "slideshow": {
     "slide_type": "slide"
    }
   },
   "source": [
    "# Zadanie\n",
    "\n",
    "Napisac i sprawdzic dzialanie nastepujacych procedur:\n",
    "\n",
    "* Store(n,x,y), ktora zastepuje wektor $y$ o $n$ skladowych odpowiednim wektorem $x$, $x: y \\leftarrow x$\n",
    "* Prod(m,n,A,x,y), ktora mnozy macierz $A$ rozmiaru $m \\times n$ z prawej strony przez wektor $x$ o $n$ skladowych i zapamietuje wynik jako wektor $y$ o $m$ skladowych $y \\leftarrow Ax$\n",
    "* Mult(k,m,n,A,B,C), ktora oblicza $C \\leftarrow AB$ dla macierzy $A$ rozmiaru $k \\times n$, $B$ rozmiaru $m \\times n$ i $C$ rozmiaru $k \\times m$\n",
    "* Dot(n,x,y,a), ktora oblicza iloczyn skalarny wektorow $x$ i $y$ o $n$ skladowych $a \\leftarrow x \\cdot y$"
   ]
  },
  {
   "cell_type": "markdown",
   "metadata": {
    "slideshow": {
     "slide_type": "slide"
    }
   },
   "source": [
    "# Uklady latwe do rozwiazania\n",
    "\n",
    "Z najprostsza sytuacja mamy do czynienia gdy macierz $A$ jest diagonalna\n",
    "\n",
    "$$\n",
    "\\left[\n",
    "\\begin{array}{cccc}\n",
    "a_{11} & 0 & \\ldots & 0\\\\ \n",
    "0 & a_{22} & \\ldots & 0\\\\\n",
    "\\ldots & \\ldots & \\ldots & \\ldots\\\\\n",
    "0 & 0 & \\ldots & a_{nn}\n",
    "\\end{array}\n",
    "\\right]\n",
    "\\left[\n",
    "\\begin{array}{c}\n",
    "x_1 \\\\ \n",
    "x_2 \\\\\n",
    "\\ldots \\\\\n",
    "x_n\n",
    "\\end{array}\n",
    "\\right]\n",
    "=\n",
    "\\left[\n",
    "\\begin{array}{c}\n",
    "b_1 \\\\ \n",
    "b_2 \\\\\n",
    "\\ldots \\\\\n",
    "b_n\n",
    "\\end{array}\n",
    "\\right]\n",
    "$$\n",
    "\n"
   ]
  },
  {
   "cell_type": "markdown",
   "metadata": {
    "slideshow": {
     "slide_type": "slide"
    }
   },
   "source": [
    "Taki uklad rozklada sie na $n$ oddzielnych rownan i ma rozwiazanie\n",
    "\n",
    "$$\n",
    "x =\n",
    "\\left[\n",
    "\\begin{array}{c}\n",
    "b_1/a_{11} \\\\\n",
    "b_2/a_{22} \\\\\n",
    "\\ldots \\\\\n",
    "b_n/a_{nn}\n",
    "\\end{array}\n",
    "\\right]\n",
    "$$\n",
    "\n",
    "Oczywiscie gdy $a_{ii} = b_i = 0$ to $x_i$ moze byc dowolna liczba. Jezeli zas $a_{ii} = 0$, ale $b_i \\neq 0$ to uklad nie ma rozwiazania."
   ]
  },
  {
   "cell_type": "markdown",
   "metadata": {
    "slideshow": {
     "slide_type": "slide"
    }
   },
   "source": [
    "Jezeli macierz $A$ jest trojkatna dolna, tzn.\n",
    "\n",
    "$$\n",
    "\\left[\n",
    "\\begin{array}{cccc}\n",
    "a_{11} & 0 & \\ldots & 0\\\\ \n",
    "a_{21} & a_{22} & \\ldots & 0\\\\\n",
    "\\ldots & \\ldots & \\ldots & \\ldots\\\\\n",
    "a_{n1} & a_{n2} & \\ldots & a_{nn}\n",
    "\\end{array}\n",
    "\\right]\n",
    "\\left[\n",
    "\\begin{array}{c}\n",
    "x_1 \\\\ \n",
    "x_2 \\\\\n",
    "\\ldots \\\\\n",
    "x_n\n",
    "\\end{array}\n",
    "\\right]\n",
    "=\n",
    "\\left[\n",
    "\\begin{array}{c}\n",
    "b_1 \\\\ \n",
    "b_2 \\\\\n",
    "\\ldots \\\\\n",
    "b_n\n",
    "\\end{array}\n",
    "\\right]\n",
    "$$\n",
    "\n",
    "wtedy stosujemy tzw. podstawienie w przod $x_i = (b_i - \\sum_{j=1}^{i-1} a_{ij}x_j)/a_{ii}$"
   ]
  },
  {
   "cell_type": "markdown",
   "metadata": {
    "slideshow": {
     "slide_type": "slide"
    }
   },
   "source": [
    "Podobnie postepujemy gdy macierz $A$ jest trojkatna gorna\n",
    "\n",
    "$$\n",
    "\\left[\n",
    "\\begin{array}{cccc}\n",
    "a_{11} & a_{12} & \\ldots & a_{1n}\\\\ \n",
    "0 & a_{22} & \\ldots & a_{2n}\\\\\n",
    "\\ldots & \\ldots & \\ldots & \\ldots\\\\\n",
    "0 & 0 & \\ldots & a_{nn}\n",
    "\\end{array}\n",
    "\\right]\n",
    "\\left[\n",
    "\\begin{array}{c}\n",
    "x_1 \\\\ \n",
    "x_2 \\\\\n",
    "\\ldots \\\\\n",
    "x_n\n",
    "\\end{array}\n",
    "\\right]\n",
    "=\n",
    "\\left[\n",
    "\\begin{array}{c}\n",
    "b_1 \\\\ \n",
    "b_2 \\\\\n",
    "\\ldots \\\\\n",
    "b_n\n",
    "\\end{array}\n",
    "\\right]\n",
    "$$\n",
    "\n",
    "Algorytm rozwiazania takiego ukladu nazywamy podstawieniem wstecz $x_i = (b_i - \\sum_{j={i+1}}^{n} a_{ij}x_j)/a_{ii}$"
   ]
  },
  {
   "cell_type": "markdown",
   "metadata": {
    "slideshow": {
     "slide_type": "slide"
    }
   },
   "source": [
    "# Rozklad $LU$\n",
    "\n",
    "Zalozmy, ze macierz $A$ mozemy wyrazic jako iloczyn macierzy trojkatnej dolnej $L$ i trojkatnej gornej $U$, wowczas $A = LU$. Wyjsciowy uklad rownan $Ax = b$ przyjmuje postac $L(Ux) = b$, ktorego rozwiazanie dzielimy na dwa etapy:\n",
    "\n",
    "* $Lz = b$, wzgledem $z$\n",
    "* $Ux = z$, wzgledem $x$\n",
    "\n",
    "Widzimy, ze w praktyce caly problem sprowadza sie do znalezienia rozkladu $LU$ macierzy $A$. "
   ]
  },
  {
   "cell_type": "markdown",
   "metadata": {
    "slideshow": {
     "slide_type": "slide"
    }
   },
   "source": [
    "Poszukujemy macierzy\n",
    "\n",
    "$$\n",
    "L =\n",
    "\\left[\n",
    "\\begin{array}{cccc}\n",
    "l_{11} & 0 & \\ldots & 0\\\\ \n",
    "l_{21} & l_{22} & \\ldots & 0\\\\\n",
    "\\ldots & \\ldots & \\ldots & \\ldots\\\\\n",
    "l_{n1} & l_{n2} & \\ldots & l_{nn}\n",
    "\\end{array}\n",
    "\\right]\n",
    "\\quad\n",
    "U =\n",
    "\\left[\n",
    "\\begin{array}{cccc}\n",
    "u_{11} & u_{12} & \\ldots & u_{1n}\\\\\n",
    "0 & u_{22} & \\ldots & u_{2n}\\\\\n",
    "\\ldots & \\ldots & \\ldots & \\ldots\\\\\n",
    "0 & 0 & \\ldots & u_{nn}\n",
    "\\end{array}\n",
    "\\right]\n",
    "$$\n",
    "\n",
    "Rownosc $A = LU$ nie okresla macierzy $L$ i $U$ jednoznacznie. Specjalnymi przypadkami sa\n",
    "\n",
    "* macierz jedynkowa dolna, gdy $l_{ii} = 1$, $i = 1, 2, ..., n$\n",
    "* macierz jedynkowa gorna, gdy $u_{ii} = 1$, $i = 1, 2, ..., n$"
   ]
  },
  {
   "cell_type": "markdown",
   "metadata": {
    "slideshow": {
     "slide_type": "slide"
    }
   },
   "source": [
    "# Algorytm $LU$\n",
    "\n",
    "Zaczynamy od wzoru na mnozenie macierzy\n",
    "\n",
    "$$ a_{ij} = \\sum_{s = 1}^{n} l_{is}u_{sj} = \\sum_{s=1}^{min(i,j)} l_{is}u_{sj} $$\n",
    "\n",
    "przy czym skorzystalismy z tego, ze $l_{is} = 0$ dla $s > i$ oraz $u_{sj} = 0$ dla $s > j$. Dla ustalenia uwagi zalozmy, ze $l_{ii} = 1$ dla $i = 1, 2, ..., n$, a wiec macierz $L$ jest jedynkowa dolna. Mamy\n",
    "\n",
    "$$ a_{11} = l_{11}u_{11} $$\n",
    "\n",
    "skad $u_{11} = a_{11}/l_{11}$."
   ]
  },
  {
   "cell_type": "markdown",
   "metadata": {
    "slideshow": {
     "slide_type": "slide"
    }
   },
   "source": [
    "Obliczmy teraz elementy pozadiagonalne\n",
    "\n",
    "$$ a_{12} = \\sum_{s=1}^{min(i,j)} l_{1s}u_{s2} = \\sum_{s=1}^{1} l_{1s}u_{s2} = l_{11}u_{12} $$\n",
    "\n",
    "$$ a_{21} = \\sum_{s=1}^{min(i,j)} l_{2s}u_{s1} = \\sum_{s=1}^{1} l_{2s}u_{s1} = l_{21}u_{11} $$\n",
    "\n",
    "skad mamy $u_{12} = a_{12}/l_{11}$ oraz $l_{21} = a_{21}/u_{11}$."
   ]
  },
  {
   "cell_type": "markdown",
   "metadata": {
    "slideshow": {
     "slide_type": "slide"
    }
   },
   "source": [
    "Podobnie\n",
    "\n",
    "$$ a_{13} = \\sum_{s=1}^{min(i,j)} l_{1s}u_{s3} = \\sum_{s=1}^{1} l_{1s}u_{s3} = l_{11}u_{13} \\Rightarrow u_{13} = a_{13}/l_{11} $$\n",
    "\n",
    "$$ a_{31} = \\sum_{s=1}^{min(i,j)} l_{3s}u_{s1} = \\sum_{s=1}^{1} l_{3s}u_{s1} = l_{31}u_{11} \\Rightarrow l_{31} = a_{31}/u_{11} $$\n",
    "\n",
    "Kontynuujac ta procedure, na bazie znajomosci elementow $l_{11}$ oraz $u_{11}$ mozemy wyznaczyc wyrazy $l_{j1}$ i $u_{1j}$, a wiec pierwsza kolumne macierzy $L$ oraz pierwszy wiersz macierzy $U$, gdzie $2 \\leq j < n$. Warto zauwazyc, ze te czynnosci mozna wykonywac rownolegle!"
   ]
  },
  {
   "cell_type": "markdown",
   "metadata": {
    "slideshow": {
     "slide_type": "slide"
    }
   },
   "source": [
    "Ogolnie algorytm rozkladu $LU$ wyglada nastepujaco:\n",
    "\n",
    "* Wybrac wartosc niezerowa dla $l_{kk}$ albo $u_{kk}$ oraz wyznaczyc druga z tych liczb za pomoca\n",
    "\n",
    "$$ l_{kk}u_{kk} = a_{kk} - \\sum_{s=1}^{k-1}l_{ks}u_{sk} $$\n",
    "\n",
    "* Dla $k+1 \\leq j < n$ obliczyc\n",
    "\n",
    "$$ u_{kj} = \\left(a_{kj} - \\sum_{s=1}^{k-1}l_{ks}u_{sj}\\right)/l_{kk} \\quad l_{jk} = \\left(a_{jk} - \\sum_{s=1}^{k-1}l_{js}u_{sk}\\right)/u_{kk} $$"
   ]
  },
  {
   "cell_type": "markdown",
   "metadata": {
    "slideshow": {
     "slide_type": "slide"
    }
   },
   "source": [
    "Nalezy wyroznic trzy specyficzne przypadki rozkladu $LU$\n",
    "\n",
    "* rozklad Doolittle'a gdy zakladamy, ze $l_{ii} = 1$ dla $1 \\leq i \\leq n$\n",
    "* rozklad Crouta gdy zakladamy, ze $u_{ii} = 1$ dla $1 \\leq i \\leq n$\n",
    "* rozklad Cholesky'ego kiedy $U = L^T$, a wiec $l_{ii} = u_{ii}$ dla $1 \\leq i \\leq n$."
   ]
  },
  {
   "cell_type": "markdown",
   "metadata": {
    "slideshow": {
     "slide_type": "slide"
    }
   },
   "source": [
    "Przyklad\n",
    "\n",
    "Znalezc rozklad Doolittle'a dla macierzy \n",
    "\n",
    "$$ A = \\left [\n",
    "\\begin{array}{ccc}\n",
    "60 & 30 & 20 \\\\\n",
    "30 & 20 & 15 \\\\\n",
    "20 & 15 & 12\n",
    "\\end{array}\n",
    "\\right ]\n",
    "$$"
   ]
  },
  {
   "cell_type": "code",
   "execution_count": 1,
   "metadata": {
    "collapsed": false,
    "slideshow": {
     "slide_type": "fragment"
    }
   },
   "outputs": [
    {
     "data": {
      "text/html": [
       "<html><script type=\"math/tex; mode=display\">\\newcommand{\\Bold}[1]{\\mathbf{#1}}\\verb|L|\\phantom{\\verb!x!}\\verb|=| \\left(\\begin{array}{rrr}\n",
       "1 & 0 & 0 \\\\\n",
       "\\frac{1}{2} & 1 & 0 \\\\\n",
       "\\frac{1}{3} & 1 & 1\n",
       "\\end{array}\\right) \\phantom{\\verb!x!}\\verb|U|\\phantom{\\verb!x!}\\verb|=| \\left(\\begin{array}{rrr}\n",
       "60 & 30 & 20 \\\\\n",
       "0 & 5 & 5 \\\\\n",
       "0 & 0 & \\frac{1}{3}\n",
       "\\end{array}\\right)</script></html>"
      ],
      "text/plain": [
       "'L =' [  1   0   0]\n",
       "[1/2   1   0]\n",
       "[1/3   1   1] ' U =' [ 60  30  20]\n",
       "[  0   5   5]\n",
       "[  0   0 1/3]"
      ]
     },
     "metadata": {},
     "output_type": "display_data"
    }
   ],
   "source": [
    "A = matrix([[60,30,20],[30,20,15],[20,15,12]])\n",
    "show('L =', A.LU()[1],' U =', A.LU()[2])"
   ]
  },
  {
   "cell_type": "markdown",
   "metadata": {
    "slideshow": {
     "slide_type": "slide"
    }
   },
   "source": [
    "# Zadanie\n",
    "\n",
    "Zaimplementowac samodzielnie procedure wyznaczania rozkladu $LU$ macierzy z poprzedniego przykladu i zweryfikowac jej poprawnosc."
   ]
  },
  {
   "cell_type": "markdown",
   "metadata": {
    "slideshow": {
     "slide_type": "slide"
    }
   },
   "source": [
    "# Warunek wystarczajacy istnienia rozkladu $LU$\n",
    "\n",
    "Jezeli wszystkie minory glowne macierzy kwadratowej $A$ sa nieosobliwe to ma ona rozklad $LU$ (bez dowodu)."
   ]
  },
  {
   "cell_type": "markdown",
   "metadata": {
    "slideshow": {
     "slide_type": "slide"
    }
   },
   "source": [
    "# Eliminacja Gaussa\n",
    "\n",
    "Eliminacje Gaussa poznamy na przykladzie ponizszego ukladu rownan liniowych\n",
    "\n",
    "$$\n",
    "\\left[\n",
    "\\begin{array}{cccc}\n",
    "6 & -2 & 2 & 4\\\\ \n",
    "12 & -8 & 6 & 10\\\\\n",
    "3 & -13 & 9 & 3\\\\\n",
    "-6 & 4 & 1 & -18\n",
    "\\end{array}\n",
    "\\right]\n",
    "\\left[\n",
    "\\begin{array}{c}\n",
    "x_1 \\\\ \n",
    "x_2 \\\\\n",
    "x_3 \\\\\n",
    "x_4\n",
    "\\end{array}\n",
    "\\right]\n",
    "=\n",
    "\\left[\n",
    "\\begin{array}{c}\n",
    "12 \\\\ \n",
    "34 \\\\\n",
    "27 \\\\\n",
    "-38\n",
    "\\end{array}\n",
    "\\right]\n",
    "$$"
   ]
  },
  {
   "cell_type": "markdown",
   "metadata": {
    "collapsed": true,
    "slideshow": {
     "slide_type": "slide"
    }
   },
   "source": [
    "W pierwszym kroku postepowania odejmiemy stronami pierwsze rownanie:\n",
    "\n",
    "* Pomnozone przez 2 od drugiego\n",
    "* Pomnozone przez $\\frac{1}{2}$ odejmujemy od trzeciego\n",
    "* Pomnozone przez -1 od czwartego\n",
    "\n",
    "Liczby 2, $\\frac{1}{2}$ i -1 nazywamy mnoznikami, a liczbe 6 elementem glownym.\n",
    "\n",
    "$$\n",
    "\\left[\n",
    "\\begin{array}{cccc}\n",
    "6 & -2 & 2 & 4\\\\ \n",
    "0 & -4 & 2 & 2\\\\\n",
    "0 & -12 & 8 & 1\\\\\n",
    "0 & 2 & 3 & -14\n",
    "\\end{array}\n",
    "\\right]\n",
    "\\left[\n",
    "\\begin{array}{c}\n",
    "x_1 \\\\ \n",
    "x_2 \\\\\n",
    "x_3 \\\\\n",
    "x_4\n",
    "\\end{array}\n",
    "\\right]\n",
    "=\n",
    "\\left[\n",
    "\\begin{array}{c}\n",
    "12 \\\\ \n",
    "10 \\\\\n",
    "21 \\\\\n",
    "-26\n",
    "\\end{array}\n",
    "\\right]\n",
    "$$"
   ]
  },
  {
   "cell_type": "markdown",
   "metadata": {
    "slideshow": {
     "slide_type": "slide"
    }
   },
   "source": [
    "W drugim kroku odejmujemy stronami drugi wiersz:\n",
    "\n",
    "* Pomnozony przez 3 od trzeciego\n",
    "* Pomnozony przez $-\\frac{1}{2}$ od czwartego\n",
    "\n",
    "$$\n",
    "\\left[\n",
    "\\begin{array}{cccc}\n",
    "6 & -2 & 2 & 4\\\\ \n",
    "0 & -4 & 2 & 2\\\\\n",
    "0 & 0 & 2 & -5\\\\\n",
    "0 & 0 & 4 & -13\n",
    "\\end{array}\n",
    "\\right]\n",
    "\\left[\n",
    "\\begin{array}{c}\n",
    "x_1 \\\\ \n",
    "x_2 \\\\\n",
    "x_3 \\\\\n",
    "x_4\n",
    "\\end{array}\n",
    "\\right]\n",
    "=\n",
    "\\left[\n",
    "\\begin{array}{c}\n",
    "12 \\\\ \n",
    "10 \\\\\n",
    "-9 \\\\\n",
    "-21\n",
    "\\end{array}\n",
    "\\right]\n",
    "$$"
   ]
  },
  {
   "cell_type": "markdown",
   "metadata": {
    "slideshow": {
     "slide_type": "slide"
    }
   },
   "source": [
    "W ostatnim kroku odejmujemy trzecie rownanie pomnozone przez 2 od czwartego\n",
    "\n",
    "$$\n",
    "\\left[\n",
    "\\begin{array}{cccc}\n",
    "6 & -2 & 2 & 4\\\\ \n",
    "0 & -4 & 2 & 2\\\\\n",
    "0 & 0 & 2 & -5\\\\\n",
    "0 & 0 & 0 & -3\n",
    "\\end{array}\n",
    "\\right]\n",
    "\\left[\n",
    "\\begin{array}{c}\n",
    "x_1 \\\\ \n",
    "x_2 \\\\\n",
    "x_3 \\\\\n",
    "x_4\n",
    "\\end{array}\n",
    "\\right]\n",
    "=\n",
    "\\left[\n",
    "\\begin{array}{c}\n",
    "12 \\\\ \n",
    "10 \\\\\n",
    "-9 \\\\\n",
    "-3\n",
    "\\end{array}\n",
    "\\right]\n",
    "$$"
   ]
  },
  {
   "cell_type": "markdown",
   "metadata": {
    "slideshow": {
     "slide_type": "slide"
    }
   },
   "source": [
    "Zauwazmy, ze mnozniki, ktorych uzylismy przeksztalcajac uklad sa elementami macierzy $L$ jedynkowej trojkatnej dolnej, a koncowy uklad ma macierz trojkatna gorna $U$\n",
    "\n",
    "$$\n",
    "L =\n",
    "\\left[\n",
    "\\begin{array}{cccc}\n",
    "1 & 0 & 0 & 0\\\\ \n",
    "2 & 1 & 0 & 0\\\\\n",
    "\\frac{1}{2} & 3 & 1 & 0\\\\\n",
    "-1 & -\\frac{1}{2} & 2 & 1\n",
    "\\end{array}\n",
    "\\right]\n",
    "\\quad\n",
    "U =\n",
    "\\left[\n",
    "\\begin{array}{cccc}\n",
    "6 & -2 & 2 & 4\\\\ \n",
    "0 & -4 & 2 & 2\\\\\n",
    "0 & 0 & 2 & -5\\\\\n",
    "0 & 0 & 0 & -3\n",
    "\\end{array}\n",
    "\\right]\n",
    "$$\n",
    "\n",
    "Te dwie macierze daja rozklad $LU$ macierzy $A = LU$."
   ]
  },
  {
   "cell_type": "markdown",
   "metadata": {
    "slideshow": {
     "slide_type": "slide"
    }
   },
   "source": [
    "Ogolnie algorytm eliminacji Gaussa dla macierzy kwadratowej o wymiarze $n \\times n$ jest zatem nastepujacy\n",
    "\n",
    "for $k = 1$ to $n - 1$ do<br>\n",
    "$\\quad$for $i = k+1$ to $n$ do<br>\n",
    "$\\quad\\quad$ $z = a_{ik}/a_{kk}$<br>\n",
    "$\\quad\\quad$ $a_{ik} = 0$<br>\n",
    "$\\quad\\quad\\quad$for $j = k + 1$ to $n$ do<br>\n",
    "$\\quad\\quad\\quad\\quad$$a_{ij} = a_{ij} - za_{kj}$<br>\n",
    "$\\quad\\quad\\quad$end do<br>\n",
    "$\\quad$end do<br>\n",
    "end do"
   ]
  },
  {
   "cell_type": "markdown",
   "metadata": {
    "slideshow": {
     "slide_type": "slide"
    }
   },
   "source": [
    "# Zadanie\n",
    "\n",
    "Zaimplementowac samodzielnie algorytm eliminacji Gaussa i rozwiazac przy jego uzyciu uklad\n",
    "\n",
    "$$\n",
    "\\left[\n",
    "\\begin{array}{ccc}\n",
    "-1 & 1 & -4\\\\ \n",
    "2 & 2 & 0\\\\\n",
    "3 & 3 & 2\\\\\n",
    "\\end{array}\n",
    "\\right]\n",
    "\\left[\n",
    "\\begin{array}{c}\n",
    "x_1\\\\\n",
    "x_2\\\\\n",
    "x_3\\\\\n",
    "\\end{array}\n",
    "\\right]\n",
    "=\n",
    "\\left[\n",
    "\\begin{array}{c}\n",
    "0\\\\\n",
    "1\\\\\n",
    "\\frac{1}{2}\\\\\n",
    "\\end{array}\n",
    "\\right].\n",
    "$$"
   ]
  },
  {
   "cell_type": "markdown",
   "metadata": {
    "slideshow": {
     "slide_type": "slide"
    }
   },
   "source": [
    "# Dygresja\n",
    "\n",
    "Zauwazmy, ze uklad\n",
    "\n",
    "$$\n",
    "\\left[\n",
    "\\begin{array}{cc}\n",
    "0 & 1\\\\\n",
    "1 & 1\n",
    "\\end{array}\n",
    "\\right]\n",
    "\\left[\n",
    "\\begin{array}{c}\n",
    "x_1\\\\\n",
    "x_2\n",
    "\\end{array}\n",
    "\\right]\n",
    "=\n",
    "\\left[\n",
    "\\begin{array}{c}\n",
    "1\\\\\n",
    "2\n",
    "\\end{array}\n",
    "\\right]\n",
    "$$\n",
    "\n",
    "nie moze byc rozwiazany przy uzyciu algorytmu standardowej eliminacji Gaussa gdyz $a_{11} = 0$. Taki problem mozna obejsc rozwazajac uklad z inna permutacja rownan, tzn.\n",
    "\n",
    "$$\n",
    "\\left[\n",
    "\\begin{array}{cc}\n",
    "1 & 1\\\\\n",
    "0 & 1\n",
    "\\end{array}\n",
    "\\right]\n",
    "\\left[\n",
    "\\begin{array}{c}\n",
    "x_1\\\\\n",
    "x_2\n",
    "\\end{array}\n",
    "\\right]\n",
    "=\n",
    "\\left[\n",
    "\\begin{array}{c}\n",
    "2\\\\\n",
    "1\n",
    "\\end{array}\n",
    "\\right].\n",
    "$$"
   ]
  },
  {
   "cell_type": "markdown",
   "metadata": {
    "slideshow": {
     "slide_type": "slide"
    }
   },
   "source": [
    "# Metody iteracyjne\n",
    "\n",
    "Algorytm eliminacji Gaussa i jego warianty sa okreslane jako metody bezposrednie rozwiazywania zagadnienia macierzowego $Ax = b$ Oznacza to, ze kazda z nich po skonczonej liczbie krokow daje rozwiazanie $x$, ktore byloby dokladne gdyby nie bledy zaokraglen.\n",
    "\n",
    "Metody iteracyjne dzialaja inaczej. Tworza ciag wektorow $x$ zbiezny do faktycznego rozwiazania ukladu $Ax = b$."
   ]
  },
  {
   "cell_type": "markdown",
   "metadata": {
    "slideshow": {
     "slide_type": "slide"
    }
   },
   "source": [
    "Uwagi\n",
    "\n",
    "* Dla wielkich ukladow zlozonych z tysiecy rownan na ogol metody iteracyjne sa znacznie szybsze niz bezposrednie\n",
    "* Metody iteracyjne sa bardzo efektywne dla tzw. ukladow rzadkich, tzn. takich, w ktorych elementy macierzy sa na ogol zerami\n",
    "* Zazwyczaj sa stabilne, bledy zaokraglen sa wygaszane w dalszych obliczeniach"
   ]
  },
  {
   "cell_type": "markdown",
   "metadata": {
    "slideshow": {
     "slide_type": "slide"
    }
   },
   "source": [
    "Rozwazmy nastepujacy przyklad\n",
    "\n",
    "$$\n",
    "\\left[\n",
    "\\begin{array}{cc}\n",
    "7 & -6\\\\\n",
    "-8 & 9\n",
    "\\end{array}\n",
    "\\right]\n",
    "\\left[\n",
    "\\begin{array}{c}\n",
    "x_1\\\\\n",
    "x_2\\\\\n",
    "\\end{array}\n",
    "\\right]\n",
    "=\n",
    "\\left[\n",
    "\\begin{array}{c}\n",
    "3\\\\\n",
    "-4\n",
    "\\end{array}\n",
    "\\right],\n",
    "$$\n",
    "\n",
    "ktory jest rownowazny nastepujacym rownaniom\n",
    "\n",
    "$$ x_1^k = \\frac{6}{7} x_2^{k-1} + \\frac{3}{7}, \\quad x_2^k = \\frac{8}{9}x_1^{k-1} - \\frac{4}{9}. $$\n",
    "\n",
    "Wzory te opisuja tzw. metode Jacobiego. Jej poczatkiem jest wybor przyblizen poczatkowych $x_1^0$ i $x_2^0$."
   ]
  },
  {
   "cell_type": "code",
   "execution_count": 5,
   "metadata": {
    "collapsed": false,
    "slideshow": {
     "slide_type": "slide"
    }
   },
   "outputs": [
    {
     "name": "stdout",
     "output_type": "stream",
     "text": [
      "0 0.000000000000000 0.000000000000000\n",
      "10 0.148650829154323 -0.198201105539097\n",
      "20 0.196615143087935 -0.262153524117247\n",
      "30 0.199942713718424 -0.266590284957899\n",
      "40 0.199999751077364 -0.266666334769818\n",
      "50 0.199999999722296 -0.266666666296395\n"
     ]
    }
   ],
   "source": [
    "x1 = 0.\n",
    "x2 = 0.\n",
    "for j in range(0,60,10):\n",
    "    for i in range(j):\n",
    "        x1t = (6./7)*x2 + 3./7\n",
    "        x2 = (8./9)*x1 - 4./9\n",
    "        x1 = x1t\n",
    "    print j, x1, x2"
   ]
  },
  {
   "cell_type": "markdown",
   "metadata": {
    "slideshow": {
     "slide_type": "slide"
    }
   },
   "source": [
    "Proces iteracyjny mozna zmodyfikowac tak, zeby ostatnio obliczone $x_1^k$ bylo od razu uzyte do wyznaczenia $x_2^k$. Wtedy otrzymamy tzw. metode Gaussa-Seidela\n",
    "\n",
    "$$ x_1^k = \\frac{6}{7} x_2^{k-1} + \\frac{3}{7}, \\quad x_2^k = \\frac{8}{9}x_1^{k} - \\frac{4}{9}. $$"
   ]
  },
  {
   "cell_type": "code",
   "execution_count": 6,
   "metadata": {
    "collapsed": false,
    "slideshow": {
     "slide_type": "fragment"
    }
   },
   "outputs": [
    {
     "name": "stdout",
     "output_type": "stream",
     "text": [
      "0 0.000000000000000 0.000000000000000\n",
      "10 0.219775530099039 -0.249088417689743\n",
      "20 0.200085929422364 -0.266590284957899\n",
      "30 0.200000024612885 -0.266666644788546\n",
      "40 0.200000000000465 -0.266666666666254\n",
      "50 0.200000000000000 -0.266666666666667\n"
     ]
    }
   ],
   "source": [
    "x1 = 0.\n",
    "x2 = 0.\n",
    "for j in range(0,60,10):\n",
    "    for i in range(j):\n",
    "        x1 = (6./7)*x2 + 3./7\n",
    "        x2 = (8./9)*x1 - 4./9\n",
    "    print j, x1, x2"
   ]
  },
  {
   "cell_type": "markdown",
   "metadata": {
    "slideshow": {
     "slide_type": "slide"
    }
   },
   "source": [
    "# Ogolna metoda iteracyjna\n",
    "\n",
    "Uklad rownan liniowych $Ax = b$ mozemy przepisac w rownowaznej postaci $Qx = (Q - A)x + b$, skad otrzymujemy\n",
    "\n",
    "$$Qx^k = (Q - A)x^{k-1} + b \\quad k \\geq 1$$\n",
    "\n",
    "z ustalonym wektorem poczatkowym $x^0$. Mozna udowodnic, ze ciag wektorow $x^k$ jest szybkozbiezny kiedy $Q^{-1}$ jest dobrym przyblizeniem $A^{-1}$."
   ]
  },
  {
   "cell_type": "markdown",
   "metadata": {
    "slideshow": {
     "slide_type": "slide"
    }
   },
   "source": [
    "# Metoda Richardsona\n",
    "\n",
    "W metodzie Richardsona $Q$ jest macierza jednostkowa, tzn.\n",
    "\n",
    "$$ x^k = (I - A)x^{k-1} + b = x^{k-1} + r_i \\quad r_i = b - Ax^{k-1}.$$\n",
    "\n",
    "Algorytm, ktory wykonuje $M$ krokow metoda Richardsona jest wiec nastepujacy\n",
    "\n",
    "for $k = 1$ to $M$ do<br>\n",
    "$\\quad$for $i = 1$ to $n$ do<br>\n",
    "$\\quad\\quad$$r_i = b_i - \\sum_{j=1}^{n} a_{ij}x_j$<br>\n",
    "$\\quad$end do<br>\n",
    "$\\quad$for $i = 1$ to $n$ do<br>\n",
    "$\\quad\\quad$$x_i = x_i + r_i$<br>\n",
    "$\\quad$end do<br>\n",
    "end do"
   ]
  },
  {
   "cell_type": "markdown",
   "metadata": {
    "slideshow": {
     "slide_type": "slide"
    }
   },
   "source": [
    "# Zadanie\n",
    "\n",
    "Wykonac 100 krokow metoda Richardsona zaczynajac od wektora $x = [0,0,0]$ dla ukladu\n",
    "\n",
    "$$\n",
    "\\left[\n",
    "\\begin{array}{ccc}\n",
    "1 & \\frac{1}{2} & \\frac{1}{3}\\\\ \n",
    "\\frac{1}{3} & 1 & \\frac{1}{2}\\\\\n",
    "\\frac{1}{2} & \\frac{1}{3} & 1\\\\\n",
    "\\end{array}\n",
    "\\right]\n",
    "\\left[\n",
    "\\begin{array}{c}\n",
    "x_1\\\\\n",
    "x_2\\\\\n",
    "x_3\\\\\n",
    "\\end{array}\n",
    "\\right]\n",
    "=\n",
    "\\left[\n",
    "\\begin{array}{c}\n",
    "\\frac{11}{18}\\\\\n",
    "\\frac{11}{18}\\\\\n",
    "\\frac{11}{18}\\\\\n",
    "\\end{array}\n",
    "\\right].\n",
    "$$"
   ]
  },
  {
   "cell_type": "markdown",
   "metadata": {
    "slideshow": {
     "slide_type": "slide"
    }
   },
   "source": [
    "# Metoda Jacobiego\n",
    "\n",
    "W metodzie Jacobiego $Q$ jest macierza diagonalna o elementach $a_{ii}$ takich jak w macierzy $A$. Algorytm wyglada nastepujaco\n",
    "\n",
    "for $k = 1$ to $M$ do<br>\n",
    "$\\quad$for $i = 1$ to $n$ do<br>\n",
    "$\\quad\\quad$$u_i = (b_i - \\sum_{j=1,\\, j \\neq i}^{n} a_{ij}x_j)/a_{ii}$<br>\n",
    "$\\quad$end do<br>\n",
    "$\\quad$for $i = 1$ to $n$ do<br>\n",
    "$\\quad\\quad$$x_i = u_i$<br>\n",
    "$\\quad$end do<br>\n",
    "end do"
   ]
  },
  {
   "cell_type": "markdown",
   "metadata": {
    "slideshow": {
     "slide_type": "slide"
    }
   },
   "source": [
    "# Metoda Gaussa-Seidela\n",
    "\n",
    "W metodzie Gaussa-Seidela $Q$ jest czescia trojkatna dolna (wraz z diagonalna) macierzy $A$. Algorytm mozna zapisac jako\n",
    "\n",
    "for $k = 1$ to $M$ do<br>\n",
    "$\\quad$for $i = 1$ to $n$ do<br>\n",
    "$\\quad\\quad$$x_i = (b_i - \\sum_{j=1,\\, j \\neq i}^{n} a_{ij}x_j)/a_{ii}$<br>\n",
    "$\\quad$end do<br>\n",
    "end do\n",
    "\n",
    "W tej metodzie nowe wartosci $x_i$ natychmiast po ich obliczeniu zastepuja stare i sa uzywane przy obliczeniu $x_{i+1}$. \n",
    "\n",
    "Inaczej dziala metoda Jacobiego: nowe przyblizenia skladowych rozwiazania $u_i$ sa wykorzystywane dopiero w nastepnej iteracji i dlatego mozna je obliczac jednoczesnie!"
   ]
  }
 ],
 "metadata": {
  "celltoolbar": "Slideshow",
  "kernelspec": {
   "display_name": "SageMath 7.3",
   "language": "",
   "name": "sagemath"
  },
  "language_info": {
   "codemirror_mode": {
    "name": "ipython",
    "version": 2
   },
   "file_extension": ".py",
   "mimetype": "text/x-python",
   "name": "python",
   "nbconvert_exporter": "python",
   "pygments_lexer": "ipython2",
   "version": "2.7.10"
  }
 },
 "nbformat": 4,
 "nbformat_minor": 1
}
