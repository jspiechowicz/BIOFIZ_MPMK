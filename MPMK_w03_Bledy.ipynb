{
 "cells": [
  {
   "cell_type": "markdown",
   "metadata": {
    "slideshow": {
     "slide_type": "slide"
    }
   },
   "source": [
    "# Matematyczne podstawy modelowania komputerowego\n",
    "\n",
    "Jakub Spiechowicz\n",
    "\n",
    "Wyklad 03, Bledy w arytmetyce komputerowej"
   ]
  },
  {
   "cell_type": "markdown",
   "metadata": {
    "slideshow": {
     "slide_type": "slide"
    }
   },
   "source": [
    "# Reprezentacja zmiennoprzecinkowa liczb\n",
    "\n",
    "IEEE 754 (IEEE floating point standard) standard reprezentacji binarnej i arytmetyki zmiennoprzecinkowej opracowany w 1985r.\n",
    "\n",
    "$$ x = \\pm q \\times 2^m $$\n",
    "\n",
    "* 1 bit - znak $\\pm$\n",
    "* 8 bitow - wykladnik $m$ (cecha) zwiekszona o 127, $m \\in [1,254]$ \n",
    "* 23 bity - mantysa $q$"
   ]
  },
  {
   "cell_type": "markdown",
   "metadata": {
    "slideshow": {
     "slide_type": "slide"
    }
   },
   "source": [
    "<img src=\"https://upload.wikimedia.org/wikipedia/commons/thumb/2/2e/IEEE-754-single1.svg/989px-IEEE-754-single1.svg.png\" width=100% align='center'>\n",
    "\n",
    "w sumie 32 bity precyzji = pojedyncza precyzja (7-8 dziesietnych miejsc znaczacych) oraz \n",
    "\n",
    "$$\\pm 1.18 \\cdot 10^{-38} \\lesssim x \\lesssim \\pm 3.4 \\cdot 10^{38}$$"
   ]
  },
  {
   "cell_type": "markdown",
   "metadata": {
    "slideshow": {
     "slide_type": "slide"
    }
   },
   "source": [
    "# Niedomiar i nadmiar\n",
    "\n",
    "* Niedomiar $x < 2^{-128}$, zazwyczaj traktowany jako zero\n",
    "* Nadmiar (nieskonczonosc) $x > 2^{128}$, zalezy od implementacji\n",
    "* NaN - Not a Number, operacje typu $0/0$, $\\infty - \\infty$, $x$ + NaN etc."
   ]
  },
  {
   "cell_type": "markdown",
   "metadata": {
    "slideshow": {
     "slide_type": "slide"
    }
   },
   "source": [
    "# Blad, blad bezwzgledny i wzgledny\n",
    "\n",
    "Blad\n",
    "\n",
    "$$ \\varepsilon = x - x_c $$\n",
    "\n",
    "Blad bezwzgledny\n",
    "\n",
    "$$ |\\varepsilon| = |x - x_c| $$\n",
    "\n",
    "Blad wzgledny\n",
    "\n",
    "$$ \\frac{|\\varepsilon|}{|x|} = \\frac{|x - x_c|}{|x|} $$"
   ]
  },
  {
   "cell_type": "markdown",
   "metadata": {
    "slideshow": {
     "slide_type": "slide"
    }
   },
   "source": [
    "# Typy bledow w obliczeniach komputerowych\n",
    "\n",
    "* Typograficzne\n",
    "* Przyblizen\n",
    "* Zaokraglen"
   ]
  },
  {
   "cell_type": "markdown",
   "metadata": {
    "slideshow": {
     "slide_type": "slide"
    }
   },
   "source": [
    "# Bledy przyblizen (algorytmiczne)\n",
    "\n",
    "* Wynikaja z wyboru algorytmu lub jego parametrow\n",
    "\n",
    "\\begin{align}\n",
    "\\sin{x} &= \\sum_{n=1}^{\\infty} \\frac{(-1)^{n-1}x^{2n-1}}{(2n-1)!} \\quad \\textrm{(scisle)}\\nonumber \\\\\n",
    "&\\simeq \\sum_{n=1}^{N} \\frac{(-1)^{n-1}x^{2n-1}}{(2n-1)!} + \\varepsilon(x,N) \\quad \\textrm{(algorytm)}\n",
    "\\end{align}"
   ]
  },
  {
   "cell_type": "markdown",
   "metadata": {
    "slideshow": {
     "slide_type": "slide"
    }
   },
   "source": [
    "# Bledy zaokraglen\n",
    "\n",
    "* Wynikaja ze skonczonej precyzji obliczen komputerowych (analogiczne do niepewnosci pomiarowych w eksperymentach fizycznych)\n",
    "* Calkowity blad zaokraglenia rosnie wraz z liczba operacji arytmetycznych programu\n",
    "* Moga byc przyczyna *niestabilnosci* algorytmu"
   ]
  },
  {
   "cell_type": "code",
   "execution_count": 5,
   "metadata": {
    "collapsed": false,
    "slideshow": {
     "slide_type": "fragment"
    }
   },
   "outputs": [
    {
     "name": "stdout",
     "output_type": "stream",
     "text": [
      "0.300000000000000044409\n"
     ]
    }
   ],
   "source": [
    "%%python\n",
    "print '%.21f' % (0.1 + 0.2)"
   ]
  },
  {
   "cell_type": "markdown",
   "metadata": {
    "slideshow": {
     "slide_type": "slide"
    }
   },
   "source": [
    "# Zadanie\n",
    "\n",
    "Pierwiastkujac liczbe $x$ $M$ razy, a pozniej podnoszac ja $M$ razy do kwadratu powinnismy otrzymac $x$. Zbadaj wynik takiego dzialania na komputerze w zaleznosci od wartosci parametrow $x$ i $M$."
   ]
  },
  {
   "cell_type": "markdown",
   "metadata": {
    "slideshow": {
     "slide_type": "slide"
    }
   },
   "source": [
    "# Odejmowanie bliskich liczb\n",
    "\n",
    "\\begin{align}\n",
    "x_c &\\simeq x(1 + \\varepsilon_x) \\nonumber \\\\\n",
    "a = b - c &\\Rightarrow a_c \\simeq b_c - c_c \\simeq b(1 + \\varepsilon_b) - c(1 + \\varepsilon_c) \\nonumber \\\\\n",
    "&\\Rightarrow \\frac{a_c}{a} \\simeq 1 + \\frac{b}{a}\\varepsilon_b - \\frac{c}{a}\\varepsilon_c \\nonumber \\\\\n",
    "\\end{align}\n",
    "\n",
    "Blad $a_c$ jest szczegolnie istotny gdy $b \\simeq c$, wtedy\n",
    "\n",
    "$$\\frac{a_c}{a} \\equiv 1 + \\varepsilon_a \\simeq 1 + \\frac{b}{a}(\\varepsilon_b - \\varepsilon_c) \\simeq 1 + \\frac{b}{a} max(|\\varepsilon_b|,|\\varepsilon_c|)$$"
   ]
  },
  {
   "cell_type": "markdown",
   "metadata": {
    "slideshow": {
     "slide_type": "slide"
    }
   },
   "source": [
    "# Przyklad\n",
    "\n",
    "$x = 1$, $y = 1 + 10^{-15}\\sqrt{2}$\n",
    "\n",
    "Oczywiscie zachodzi $10^{15}(y-x) = \\sqrt{2}$."
   ]
  },
  {
   "cell_type": "code",
   "execution_count": 10,
   "metadata": {
    "collapsed": false,
    "slideshow": {
     "slide_type": "fragment"
    }
   },
   "outputs": [
    {
     "name": "stdout",
     "output_type": "stream",
     "text": [
      "1.33226762955 1.41421356237\n",
      "0.0579445247897\n"
     ]
    }
   ],
   "source": [
    "%%python\n",
    "from math import sqrt\n",
    "x = 1.0\n",
    "y = 1.0 + (1e-15)*sqrt(2)\n",
    "sr2 = (10**15)*(y - x)\n",
    "print sr2, sqrt(2)\n",
    "print abs(sr2-sqrt(2))/sqrt(2)"
   ]
  },
  {
   "cell_type": "markdown",
   "metadata": {
    "slideshow": {
     "slide_type": "slide"
    }
   },
   "source": [
    "Instrukcja \n",
    "\n",
    "$$ y = \\sqrt{x^2 + 1} - 1$$\n",
    "\n",
    "powoduje dla $x \\ll 1$ odejmowanie bliskich liczb. Dlatego warto rozwazyc nastepujace przeksztalcenie\n",
    "\n",
    "$$ y = (\\sqrt{x^2 + 1} - 1)\\frac{\\sqrt{x^2 + 1} + 1}{\\sqrt{x^2 + 1} + 1} = \\frac{x^2}{\\sqrt{x^2 + 1} + 1} $$\n"
   ]
  },
  {
   "cell_type": "markdown",
   "metadata": {
    "slideshow": {
     "slide_type": "slide"
    }
   },
   "source": [
    "# Zadanie\n",
    "\n",
    "Napisz program, ktory wyznaczy z dokladnoscia do 2 wartosc odpowiadajaca numerycznemu zeru."
   ]
  },
  {
   "cell_type": "markdown",
   "metadata": {
    "slideshow": {
     "slide_type": "slide"
    }
   },
   "source": [
    "# Niestabilnosc numeryczna\n",
    "\n",
    "Algorytm numeryczny okreslamy jako *niestabilny*, jesli male bledy popelnione w jakims etapie obliczen rosna niekontrolowanie w kolejnych etapach i ostatecznie powaznie znieksztalcaja wynik."
   ]
  },
  {
   "cell_type": "markdown",
   "metadata": {
    "slideshow": {
     "slide_type": "slide"
    }
   },
   "source": [
    "# Przyklad\n",
    "\n",
    "$$ x_0 = 1, \\quad x_1 = \\frac{1}{3}, \\quad x_{n+1} = \\frac{13}{3}x_n - \\frac{4}{3}x_{n-1}, \\quad (n \\geq 1)$$\n",
    "\n",
    "Zwiazki te generuja ciag o elementach\n",
    "\n",
    "$$ x_n = \\left(\\frac{1}{3}\\right)^n $$\n",
    "\n",
    "\\begin{align}\n",
    "x_{m+1} &= \\frac{13}{3}x_m - \\frac{4}{3}x_{m-1} = \\frac{13}{3}\\left(\\frac{1}{3}\\right)^m - \\frac{4}{3}\\left(\\frac{1}{3}\\right)^{m-1} \\nonumber \\\\& = \\left(\\frac{1}{3}\\right)^{m-1}\\left(\\frac{13}{9} - \\frac{4}{3}\\right) = \\left(\\frac{1}{3}\\right)^{m+1}\n",
    "\\end{align}"
   ]
  },
  {
   "cell_type": "code",
   "execution_count": 12,
   "metadata": {
    "collapsed": false,
    "slideshow": {
     "slide_type": "slide"
    }
   },
   "outputs": [
    {
     "name": "stdout",
     "output_type": "stream",
     "text": [
      "2 0.111111111111 0.111111111111 1.49880108324e-15\n",
      "3 0.037037037037 0.037037037037 2.079586503e-14\n",
      "4 0.0123456790123 0.0123456790123 2.56154472633e-13\n",
      "5 0.00411522633744 0.00411522633745 3.07975520086e-12\n",
      "6 0.00137174211243 0.00137174211248 3.69654404742e-11\n",
      "7 0.000457247370625 0.000457247370828 4.43594296061e-10\n",
      "8 0.000152415789465 0.000152415790276 5.32314044455e-09\n",
      "9 5.080526018e-05 5.08052634253e-05 6.38776964049e-08\n",
      "10 1.69350748271e-05 1.69350878084e-05 7.66532366862e-07\n",
      "11 5.6449773443e-06 5.64502926948e-06 9.1983884106e-06\n",
      "12 1.88146872247e-06 1.88167642316e-06 0.000110380660937\n",
      "13 6.26394671637e-07 6.27225474386e-07 0.00132456793126\n",
      "14 2.05751947133e-07 2.09075158129e-07 0.0158948151751\n",
      "15 5.63988753916e-08 6.96917193763e-08 0.190737782101\n",
      "16 -2.99408028131e-08 2.32305731254e-08 2.28885338521\n",
      "17 -2.04941979379e-07 7.74352437514e-09 27.4662406226\n",
      "18 -8.48160840225e-07 2.58117479171e-09 329.594887471\n",
      "19 -3.40210766847e-06 8.60391597238e-10 3955.13864965\n",
      "20 -1.36115854431e-05 2.86797199079e-10 47461.6637958\n"
     ]
    }
   ],
   "source": [
    "%%python\n",
    "x0 = 1\n",
    "x1 = 1./3\n",
    "for i in range(2,21):\n",
    "    x = (13./3)*x1 - (4./3)*x0\n",
    "    x0 = x1\n",
    "    x1 = x\n",
    "    xt = (1./3)**i\n",
    "    print i, x, xt, abs(x - xt)/xt"
   ]
  },
  {
   "cell_type": "markdown",
   "metadata": {
    "slideshow": {
     "slide_type": "slide"
    }
   },
   "source": [
    "# Twierdzenie Stone'a-Weierstrassa\n",
    "\n",
    "Kazda funkcje ciagla o wartosciach rzeczywistych na przedziale domknietym $[a,b]$ mozna przyblizyc jednostajnie z *dowolna* dokladnoscia odpowiednim wielomianem."
   ]
  },
  {
   "cell_type": "markdown",
   "metadata": {
    "slideshow": {
     "slide_type": "slide"
    }
   },
   "source": [
    "# Twierdzenie Taylora (I)\n",
    "\n",
    "Jezeli $f(x)$ jest n+1 razy rozniczkowalna w sposob ciagly na przedziale domknietym $[a,b]$ to dla kazdego $x$ i $c$ zawartego w $[a,b]$ zachodzi\n",
    "\n",
    "$$f(x) = \\sum_{n=0}^N \\frac{f^{(n)}(c)}{n!}(x-c)^n + \\varepsilon(x,N,c) $$"
   ]
  },
  {
   "cell_type": "markdown",
   "metadata": {
    "slideshow": {
     "slide_type": "slide"
    }
   },
   "source": [
    "# Twierdzenie Taylora (II)\n",
    "\n",
    "Jezeli $f(x)$ jest n+1 razy rozniczkowalna w sposob ciagly na przedziale domknietym $[a,b]$ to dla kazdego $x$ i $x+h$ zawartego w $[a,b]$ zachodzi\n",
    "\n",
    "$$f(x+h) = \\sum_{n=0}^N \\frac{f^{(n)}(x)}{n!}h^n + \\varepsilon(x,N,h) $$"
   ]
  },
  {
   "cell_type": "markdown",
   "metadata": {
    "slideshow": {
     "slide_type": "slide"
    }
   },
   "source": [
    "# Notacja $O(h^n)$\n",
    "\n",
    "$$\\varepsilon \\equiv O(h^n), \\quad |\\varepsilon| \\leq C|h|^n$$\n",
    "\n",
    "Przyklad\n",
    "\n",
    "\\begin{align}\n",
    "f(x + h) &= f(x) + f'(x)h + \\frac{f''(x)}{2!}h^2 \\nonumber \\\\ &= f(x) + f'(x)h + O(h^2)\n",
    "\\end{align}"
   ]
  },
  {
   "cell_type": "code",
   "execution_count": 4,
   "metadata": {
    "collapsed": false,
    "slideshow": {
     "slide_type": "slide"
    }
   },
   "outputs": [
    {
     "data": {
      "image/png": "[encoded data removed]",
      "text/plain": [
       "Graphics object consisting of 4 graphics primitives"
      ]
     },
     "metadata": {},
     "output_type": "display_data"
    }
   ],
   "source": [
    "x = var('x')\n",
    "f(x) = arctan(x)\n",
    "p=plot(f(x),-pi/2,pi/2, color= 'black', legend_label='f(x)')\n",
    "g1(x) = f(x).taylor(x, 0, 1)\n",
    "p1=plot(g1(x),-pi/2,pi/2, color= 'red', legend_label='N=1')\n",
    "g5(x) = f(x).taylor(x, 0, 3)\n",
    "p5=plot(g5(x),-pi/2,pi/2, color= 'green', legend_label='N=3')\n",
    "g7(x) = f(x).taylor(x, 0, 7)\n",
    "p7=plot(g7(x),-pi/2,pi/2, color= 'blue', legend_label='N=7')\n",
    "show(p+p1+p5+p7, figsize=7)"
   ]
  },
  {
   "cell_type": "markdown",
   "metadata": {
    "slideshow": {
     "slide_type": "slide"
    }
   },
   "source": [
    "# Zadanie\n",
    "\n",
    "$$ \\sin{x} = \\sum_{n=1}^{\\infty} \\frac{(-1)^{n-1}x^{2n-1}}{(2n-1)!} $$"
   ]
  },
  {
   "cell_type": "markdown",
   "metadata": {
    "slideshow": {
     "slide_type": "slide"
    }
   },
   "source": [
    "I sposob:\n",
    "\n",
    "$$ \\sin{x} \\simeq \\sum_{n=1}^{N} \\frac{(-1)^{n-1}x^{2n-1}}{(2n-1)!} + \\varepsilon(x,N) $$\n",
    "\n",
    "II sposob:\n",
    "\n",
    "\\begin{align}\n",
    "\\frac{(-1)^{n-1}x^{2n - 1}}{(2n-1)!} &= \\frac{-x^2}{(2n-1)(2n-2)}\\frac{(-1)^{n-2}x^{2n-3}}{(2n-3)!} \\nonumber \\\\\n",
    "\\Rightarrow \\textrm{wyraz }n &= \\frac{-x^2}{(2n-1)(2n-2)} \\times \\textrm{wyraz }n-1\n",
    "\\end{align}"
   ]
  }
 ],
 "metadata": {
  "celltoolbar": "Slideshow",
  "kernelspec": {
   "display_name": "SageMath 7.3",
   "language": "",
   "name": "sagemath"
  },
  "language_info": {
   "codemirror_mode": {
    "name": "ipython",
    "version": 2
   },
   "file_extension": ".py",
   "mimetype": "text/x-python",
   "name": "python",
   "nbconvert_exporter": "python",
   "pygments_lexer": "ipython2",
   "version": "2.7.10"
  }
 },
 "nbformat": 4,
 "nbformat_minor": 1
}
