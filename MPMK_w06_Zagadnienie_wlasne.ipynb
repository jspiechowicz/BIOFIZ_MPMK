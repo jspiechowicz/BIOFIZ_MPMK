{
 "cells": [
  {
   "cell_type": "markdown",
   "metadata": {
    "slideshow": {
     "slide_type": "slide"
    }
   },
   "source": [
    "# Matematyczne podstawy modelowania komputerowego\n",
    "\n",
    "Jakub Spiechowicz\n",
    "\n",
    "Wyklad 06, Zagadnienie wlasne"
   ]
  },
  {
   "cell_type": "markdown",
   "metadata": {
    "slideshow": {
     "slide_type": "slide"
    }
   },
   "source": [
    "# Sformulowanie problemu\n",
    "\n",
    "Niech $A$ bedzie macierza kwadratowa stopnia $n$ o elementach zespolonych, a $\\lambda$ liczba zespolona. Rownanie\n",
    "\n",
    "$$Ax = \\lambda x $$\n",
    "\n",
    "nazywamy zagadnieniem wlasnym macierzy $A$, gdzie $\\lambda$ to wartosc wlasna, a $x$ wektor wlasny odpowiadajacy tej wartosci wlasnej. Istnienie nietrywialnego rozwiazania zagadnienia wlasnego jest rownowazne nastepujacemu warunkowi\n",
    "\n",
    "$$det(A - \\lambda I) = 0.$$"
   ]
  },
  {
   "cell_type": "markdown",
   "metadata": {
    "slideshow": {
     "slide_type": "slide"
    }
   },
   "source": [
    "Zasadniczo obliczanie wartosci wlasnych mozna sprowadzic do rozwiazania ponizszego rownania\n",
    "\n",
    "$$\n",
    "\\left|\n",
    "\\begin{array}{cccc}\n",
    "a_{11} - \\lambda & a_{12} & \\ldots & a_{1n}\\\\ \n",
    "a_{21} & a_{22} - \\lambda & \\ldots & a_{2n}\\\\\n",
    "\\ldots & \\ldots & \\ldots & \\ldots\\\\\n",
    "a_{n1} & a_{n2} & \\ldots & a_{nn} - \\lambda\n",
    "\\end{array}\n",
    "\\right|\n",
    "=\n",
    "0.\n",
    "$$\n",
    "\n",
    "Jest to tzw. rownanie charakterystyczne macierzy $A$. Lewa strona jest wielomianem stopnia $n$ zwanym wielomianem charakterystycznym macierzy. Macierz stopnia $n$ ma dokladnie $n$ wartosci wlasnych przy czym niektore z nich moga byc wielokrotne."
   ]
  },
  {
   "cell_type": "markdown",
   "metadata": {
    "slideshow": {
     "slide_type": "slide"
    }
   },
   "source": [
    "# Metoda potegowa\n",
    "\n",
    "Metoda potegowa umozliwia obliczyc wartosc wlasna o najwiekszym module i odpowiadajacy jej wektor wlasny. Metoda dziala bez zaklocen gdy macierz $A$\n",
    "\n",
    "* Tylko jedna wartosc wlasna (rzeczywista lub zespolona) ma najwiekszy modul $|\\lambda_1| > |\\lambda_2| \\geq |\\lambda_3| ... \\geq |\\lambda_n|$\n",
    "* Wektory wlasne $u^{(j)}$ macierzy $Au^{(j)} = \\lambda_ju^{(j)}$ tworza baze w przestrzeni $\\mathbb{R}^n$ lub $\\mathbb{C}^n$\n",
    "\n",
    "Niech $x^{(0)} = u^{(1)} + \\sum_{j=2}^{n}a_ju^{(j)}$. Utworzmy wektory $x^{(k)} = A^kx^{(0)} = A^ku^{(1)} + \\sum_{j=2}^{n}a_jA^ku^{(j)}$."
   ]
  },
  {
   "cell_type": "markdown",
   "metadata": {
    "slideshow": {
     "slide_type": "slide"
    }
   },
   "source": [
    "Mamy\n",
    "\n",
    "$$x^{(k)} = \\lambda_1^k u^{(1)} + \\sum_{j=2}^{n}a_j \\lambda_j^k u^{(j)} = \\lambda_1^k \\left[ u^{(1)} + \\sum_{j=2}^{n}a_j\\left(\\frac{\\lambda_j}{\\lambda_1}\\right)^k u^{(j)}\\right].$$\n",
    "\n",
    "Poniewaz $|\\lambda_1| > |\\lambda_j|$ dla $2 \\leq j \\leq n$, wiec $(\\lambda_j/\\lambda_1)^k \\to 0$ gdy $k \\to \\infty$, dlatego $x^{(k)} = \\lambda_1^k(u^{(1)} + \\epsilon^{(k)})$, gdzie $\\epsilon^{(k)} \\to 0$."
   ]
  },
  {
   "cell_type": "markdown",
   "metadata": {
    "slideshow": {
     "slide_type": "slide"
    }
   },
   "source": [
    "Niech $\\varphi$ bedzie dowolnym funkcjonalem liniowym okreslonym na $\\mathbb{C}^n$ takim, ze $\\varphi(u^{(1)}) \\neq 0$. Moze to byc $j$-ta skladowa wektora. Wtedy \n",
    "\n",
    "$$\\varphi(x^{(k)}) = \\lambda_1^k[\\varphi(u^{(1)}) + \\varphi(\\epsilon^k)].$$\n",
    "\n",
    "Stad\n",
    "\n",
    "$$ r_k = \\frac{\\varphi(x^{(k+1)})}{\\varphi(x^{(k)})} = \\frac{\\varphi(Ax^{(k)})}{\\varphi(x^{(k)})} \\to \\lambda_1. $$\n",
    "\n",
    "Okreslismy w ten sposob metode potegowa. Zauwazmy, ze kierunek wektora $x^{(k)}$ zbliza sie coraz bardziej do $u^{(1)}$ dlatego ta metoda daje zarazem przyblizenie wektora wlasnego $u^{(1)}$."
   ]
  },
  {
   "cell_type": "markdown",
   "metadata": {
    "slideshow": {
     "slide_type": "slide"
    }
   },
   "source": [
    "# Algorytm\n",
    "\n",
    "Algorytm wykonujacy $m$ krokow metody potegowej mozna opisac jako\n",
    "\n",
    "for $k = 1$ to $m$ do<br>\n",
    "$\\quad$$y=Ax$<br>\n",
    "$\\quad$$r=\\varphi(y)/\\varphi(x)$<br>\n",
    "$\\quad$$x=y/||y||$<br>\n",
    "\n",
    "gdzie normalizacja $x=y/||y||$ jest konieczna aby uniknac zbieznosci ciagu wektorow $x^{(k)}$ do 0 lub nieograniczonego wzrostu ich skladowych. Jako norme mozna wykorzystac np.\n",
    "\n",
    "$||x||_\\infty = max_{1\\leq j \\leq n}|x_j|$. "
   ]
  },
  {
   "cell_type": "markdown",
   "metadata": {
    "slideshow": {
     "slide_type": "slide"
    }
   },
   "source": [
    "# Zadanie\n",
    "\n",
    "Zastosowac metode potegowa dla macierzy \n",
    "\n",
    "$$ A = \\left [\n",
    "\\begin{array}{ccc}\n",
    "6 & 5 & -5 \\\\\n",
    "2 & 6 & -2 \\\\\n",
    "2 & 5 & -1\n",
    "\\end{array}\n",
    "\\right ]\n",
    "$$\n",
    "\n",
    "oraz wektora poczatkowego $x = (-1,1,1)$, funkcjonalu $\\varphi(x) = x_2$ i normy $||\\cdot||_\\infty$."
   ]
  },
  {
   "cell_type": "markdown",
   "metadata": {
    "slideshow": {
     "slide_type": "slide"
    }
   },
   "source": [
    "# Metoda Aitkena\n",
    "\n",
    "Zbieznosc schematu potegowego mozna przyspieszyc rozwazajac jej drobna modyfikacje nazywana metoda Aitkena. Zamiast $r_k$ rozwazamy w niej ciag o elementach\n",
    "\n",
    "$$s_n = \\frac{r_nr_{n+2}-r_{n+1}^2}{r_{n+2}-2r_{n+1}+r_n}.$$"
   ]
  },
  {
   "cell_type": "markdown",
   "metadata": {
    "slideshow": {
     "slide_type": "slide"
    }
   },
   "source": [
    "# Zadanie\n",
    "\n",
    "Porownac tempo zbieznosci metody potegowej i Aitkena dla problemu z poprzedniego zadania."
   ]
  },
  {
   "cell_type": "markdown",
   "metadata": {
    "slideshow": {
     "slide_type": "slide"
    }
   },
   "source": [
    "# Odwrotna metoda potegowa\n",
    "\n",
    "Elementarna wlasnosc wartosci wlasnej mowi, ze jesli $\\lambda$ jest wartoscia wlasna macierzy $A$, to $\\lambda^{-1}$ jest wartoscia wlasna macierzy $A^{-1}$. Rzeczywiscie\n",
    "\n",
    "$$ Ax = \\lambda x \\Rightarrow x = A^{-1}(\\lambda x) = \\lambda A^{-1} x \\Rightarrow A^{-1}x = \\lambda^{-1}x. $$\n",
    "\n",
    "Zalozmy, ze $|\\lambda_1| > |\\lambda_2| \\geq |\\lambda_3| ... \\geq |\\lambda_n| > 0.$ Wartosci wlasne macierzy $A^{-1}$ spelniaja nierownosc \n",
    "\n",
    "$$|\\lambda_n^{-1}| \\geq |\\lambda_{n-1}^{-1}| \\geq ... > |\\lambda_1^{-1}| > 0.$$ \n",
    "\n",
    "Zatem stosujac metode potegowa do $A^{-1}$ mozemy obliczyc $\\lambda_n^{-1}$."
   ]
  },
  {
   "cell_type": "markdown",
   "metadata": {
    "slideshow": {
     "slide_type": "slide"
    }
   },
   "source": [
    "W tym celu zamiast korzystac z rownania $x^{(k+1)} = A^{-1}x^{(k)}$ za pomoca rozkladu $LU$ rozwiazujemy uklad $Ax^{(k+1)} = x^{(k)}$. Tak wlasnie dziala odwrotna metoda potegowa."
   ]
  },
  {
   "cell_type": "markdown",
   "metadata": {
    "slideshow": {
     "slide_type": "slide"
    }
   },
   "source": [
    "# Ortogonalizacja\n",
    "\n",
    "Iloczyn skalarny $\\langle \\cdot,\\cdot \\rangle$ wektorow z $\\mathbb{C}^n$ pozwala wprowadzic pojecie ortogonalnosci. Uklad wektorow $v_1, v_2, ..., v_k$ jest ortogonalny gdy $\\langle v_i, v_j \\rangle = 0$ dla $i \\neq j$. Kiedy dodatkowo $\\langle v_i, v_i \\rangle = 1$ dla $1 \\leq i \\leq n$ to ten uklad jest ortonormalny.\n",
    "\n",
    "W ostatnim przypadku jesli wektory $v_i$ sa kolumnami macierzy to jest ona unitarna, a wiec $A^{\\dagger} A = I$, gdzie $\\dagger$ jest sprzezeniem hermitowskim - zlozeniem operacji transpozycji i sprzezenia zespolonego."
   ]
  },
  {
   "cell_type": "markdown",
   "metadata": {
    "slideshow": {
     "slide_type": "slide"
    }
   },
   "source": [
    "# Ortogonalizacja Grama-Schmidta\n",
    "\n",
    "Dla danego ciagu wektorow liniowo niezaleznych $x_1, x_2, ...$ z $\\mathbb{C}^n$ procedura ortogonalizacji Grama-Schmidta pozwala zbudowac ciag ortonormalnych wektorow $u_1, u_2, ...$, a wiec baze podprzestrzeni liniowej rozpietej na wszystkich kombinacjach liniowych wektorow $x_1, x_2, ...$."
   ]
  },
  {
   "cell_type": "markdown",
   "metadata": {
    "slideshow": {
     "slide_type": "slide"
    }
   },
   "source": [
    "Wektor $u_j$ wyrazamy nastepujaco\n",
    "\n",
    "$$ u_j = \\frac{U_j}{||U_j||_2}, $$\n",
    "\n",
    "gdzie $U_j = x_j - \\sum_{i<j}\\langle x_j, u_i \\rangle u_i$, a $||\\cdot||_2 = \\sqrt{\\langle \\cdot, \\cdot \\rangle}$ oznacza norme euklidesowa."
   ]
  },
  {
   "cell_type": "markdown",
   "metadata": {
    "slideshow": {
     "slide_type": "slide"
    }
   },
   "source": [
    "Ortogonalizacja Grama-Schmidta zastosowana do kolumn $A_1$, $A_2$, ..., $A_n$ macierzy stopnia $n$ mozemy rozumiec jako jej rozklad $QR$ na czynniki $Q$ i $R$, gdzie $Q$ jest macierza unitarna $Q^{\\dagger}Q = 1$, ktorej kolumnami sa wektory $u_j$, a $R$ jest macierza trojkatna gorna o elementach $t_{ij} = \\langle x_j, u_i \\rangle$. Algorytm mozemy napisac zwiezle jako:\n",
    "\n",
    "for $j = 1$ to $n$ do<br>\n",
    "$\\quad$for $i=1$ to $j-1$ do<br>\n",
    "$\\quad$$t_{ij} = \\langle A_j, Q_i \\rangle$<br>\n",
    "$\\quad$end do<br>\n",
    "$\\quad$$U_j = A_j - \\sum_{i<j}t_{ij}Q_i$<br>\n",
    "$\\quad$$t_{jj} = ||U_j||_2$<br>\n",
    "$\\quad$$Q_j = t_{jj}^{-1}U_j$"
   ]
  },
  {
   "cell_type": "markdown",
   "metadata": {
    "slideshow": {
     "slide_type": "slide"
    }
   },
   "source": [
    "Uwaga:\n",
    "\n",
    "Macierz $R$ wygodnie jest wyznaczyc z warunku $A = QR$, pamietajac o tym, ze $Q^{\\dagger}Q = I$, skad $Q^{\\dagger}A = R$."
   ]
  },
  {
   "cell_type": "markdown",
   "metadata": {
    "slideshow": {
     "slide_type": "slide"
    }
   },
   "source": [
    "Przyklad\n",
    "\n",
    "Znajdzmy rozklad $QR$ macierzy \n",
    "\n",
    "$$ A = \\left [\n",
    "\\begin{array}{ccc}\n",
    "-2 & 8 & 19 \\\\\n",
    "-2 & 11 & -14 \\\\\n",
    "1 & -7 & -8\n",
    "\\end{array}\n",
    "\\right ]\n",
    "$$"
   ]
  },
  {
   "cell_type": "code",
   "execution_count": 2,
   "metadata": {
    "collapsed": false,
    "slideshow": {
     "slide_type": "fragment"
    }
   },
   "outputs": [
    {
     "data": {
      "text/html": [
       "<html><script type=\"math/tex; mode=display\">\\newcommand{\\Bold}[1]{\\mathbf{#1}}\\verb|Q|\\phantom{\\verb!x!}\\verb|=| \\left(\\begin{array}{rrr}\n",
       "-\\frac{2}{3} & -\\frac{2}{3} & \\frac{1}{3} \\\\\n",
       "-\\frac{2}{3} & \\frac{1}{3} & -\\frac{2}{3} \\\\\n",
       "\\frac{1}{3} & -\\frac{2}{3} & -\\frac{2}{3}\n",
       "\\end{array}\\right) \\phantom{\\verb!x!}\\verb|R|\\phantom{\\verb!x!}\\verb|=| \\left(\\begin{array}{rrr}\n",
       "3 & -15 & -6 \\\\\n",
       "0 & 3 & -12 \\\\\n",
       "0 & 0 & 21\n",
       "\\end{array}\\right)</script></html>"
      ],
      "text/plain": [
       "'Q =' [-2/3 -2/3  1/3]\n",
       "[-2/3  1/3 -2/3]\n",
       "[ 1/3 -2/3 -2/3] ' R =' [  3 -15  -6]\n",
       "[  0   3 -12]\n",
       "[  0   0  21]"
      ]
     },
     "metadata": {},
     "output_type": "display_data"
    }
   ],
   "source": [
    "A = matrix(QQ,[[-2, 8, 19], [-2, 11, -14], [1, -7, -8]])\n",
    "(Q, R) = A.QR()\n",
    "show('Q =', Q,' R =', R)"
   ]
  },
  {
   "cell_type": "markdown",
   "metadata": {
    "slideshow": {
     "slide_type": "slide"
    }
   },
   "source": [
    "# Zadanie \n",
    "\n",
    "Znalezc rozklad $QR$ macierzy\n",
    "\n",
    "$$ A = \\left [\n",
    "\\begin{array}{ccc}\n",
    "63 & 41 & -88 \\\\\n",
    "42 & 60 & 51 \\\\\n",
    "0 & -28 & 56\n",
    "\\end{array}\n",
    "\\right ].\n",
    "$$"
   ]
  },
  {
   "cell_type": "markdown",
   "metadata": {
    "slideshow": {
     "slide_type": "slide"
    }
   },
   "source": [
    "# Zastosowania rozkladu $QR$\n",
    "\n",
    "Niech bedzie dany uklad rownan liniowych $Ax = b$. Dysponujac rozkladem $A = QR$ mozna go przepisac nastepujaco\n",
    "\n",
    "\\begin{align}\n",
    "(QR)x &= b \\nonumber \\\\\n",
    "Q(Rx) &= b\n",
    "\\end{align}\n",
    "\n",
    "Pamietajac, ze odpowiednikiem macierzy unitarnej $Q$ w ciele liczb rzeczywistych jest macierz ortogonalna $Q^TQ = I$, gdzie $T$ symbolizuje transpozycje macierzy. Wowczas\n",
    "\n",
    "$$ Rx = Q^Tb $$\n",
    "\n",
    "Macierz $R$ jest macierza trojkatna gorna, wiec powyzszy uklad mozemy wygodnie rozwiazac metoda podstawienia wstecz."
   ]
  },
  {
   "cell_type": "markdown",
   "metadata": {
    "slideshow": {
     "slide_type": "slide"
    }
   },
   "source": [
    "Przypomnijmy, ze macierze $A$ i $B$ sa z definicji podobne jezeli istnieje macierz nieosobliwa $P$, taka, ze\n",
    "\n",
    "$$ B = PAP^{-1} \\quad \\textrm{lub} \\quad A = QBQ^{-1}, \\quad Q = P^{-1}. $$\n",
    "\n",
    "Macierze podobne maja te same zbiory wartosci wlasnych. Istotnie\n",
    "\n",
    "\\begin{align}\n",
    "det(B - \\lambda I) &= det(PAP^{-1} - \\lambda I) = det(PAP^{-1} - P\\lambda IP^{-1}) \\\\ &= det[P(A - \\lambda I)P^{-1}] \\nonumber\\\\ &= det(P)det(A - \\lambda I)det(P^{-1}) = det(A - \\lambda I)\n",
    "\\end{align}\n",
    "\n",
    "Macierze $A$ i $B$ sa unitarnie podobne jesli dodatko $P$ jest macierza unitarna, tzn. $P^{\\dagger}P = I$."
   ]
  },
  {
   "cell_type": "markdown",
   "metadata": {
    "slideshow": {
     "slide_type": "slide"
    }
   },
   "source": [
    "# Metoda QR\n",
    "\n",
    "Twierdzenie Schura\n",
    "\n",
    "Kazda macierz kwadratowa jest unitarnie podobna do macierzy trojkatnej gornej.\n",
    "\n",
    "W zwiazku z powyzszym dla dowolnej macierzy $UAU^{\\dagger} = R$. Wartosci wlasne macierzy $R$ sa identyczne jak $A$ i leza na jej przekatnej.\n",
    "\n",
    "Twierdzenie Schura stanowi podstawe metody $QR$ obliczania wartosci wlasnych macierzy, ktora startujac z macierzy $A_1 = A$ oblicza jej rozklad $QR$, tj. $A_k = Q_k R_k$ oraz $A_{k+1} = R_k Q_k$.\n",
    "\n",
    "Przy pewnych zalozeniach elementy diagonalne macierzy $A_k$ daza gdy $k \\to \\infty$ do wartosci wlasnych macierzy $A$."
   ]
  },
  {
   "cell_type": "markdown",
   "metadata": {
    "slideshow": {
     "slide_type": "slide"
    }
   },
   "source": [
    "Zauwazmy, ze wszystkie macierze $A_k$ sa unitarnie podobne do $A$. Poniewaz $A_{k+1} = R_kQ_k$\n",
    "\n",
    "$$ A_k = Q_k R_k = (Q_k R_k)(Q_kQ_k^{\\dagger}) = Q_k A_{k+1} Q_k^{\\dagger}. $$\n",
    "\n",
    "Algorytm metody $QR$ mozemy wiec zwiezle zapisac jako\n",
    "\n",
    "$A_1 = A$<br>\n",
    "for $k = 1$ to $m$ do<br>\n",
    "$\\quad$$A_k = Q_k R_k$<br>\n",
    "$\\quad$$A_{k+1} = R_k Q_k$"
   ]
  },
  {
   "cell_type": "markdown",
   "metadata": {
    "slideshow": {
     "slide_type": "slide"
    }
   },
   "source": [
    "Przyklad\n",
    "\n",
    "Znajdzmy za pomoca metody $QR$ wartosci wlasne macierzy\n",
    "\n",
    "$$ A = \\left [\n",
    "\\begin{array}{ccc}\n",
    "-2 & 8 & 19 \\\\\n",
    "-2 & 11 & -14 \\\\\n",
    "1 & -7 & -8\n",
    "\\end{array}\n",
    "\\right ]\n",
    "$$"
   ]
  },
  {
   "cell_type": "code",
   "execution_count": 31,
   "metadata": {
    "collapsed": false,
    "slideshow": {
     "slide_type": "fragment"
    }
   },
   "outputs": [
    {
     "data": {
      "text/html": [
       "<html><script type=\"math/tex; mode=display\">\\newcommand{\\Bold}[1]{\\mathbf{#1}}\\left[14.9193654203, 0.978956641964, 12.9404087783\\right]</script></html>"
      ],
      "text/plain": [
       "[14.919365420269106, 0.9789566419641489, 12.94040877830497]"
      ]
     },
     "metadata": {},
     "output_type": "display_data"
    },
    {
     "data": {
      "text/html": [
       "<html><script type=\"math/tex; mode=display\">\\newcommand{\\Bold}[1]{\\mathbf{#1}}\\left[14.9193647291, 12.9404093778, 0.978956641964\\right]</script></html>"
      ],
      "text/plain": [
       "[14.919364729069535, 12.940409377821469, 0.9789566419641473]"
      ]
     },
     "metadata": {},
     "output_type": "display_data"
    }
   ],
   "source": [
    "A = matrix(RDF,[[-2, 8, 19], [-2, 11, -14], [1, -7, -8]])\n",
    "show( map(abs,A.eigenvalues()) )\n",
    "m = 100\n",
    "for i in range(m):\n",
    "    (Q,R) = A.QR()\n",
    "    A = R*Q\n",
    "show( map(abs,R.diagonal()) )"
   ]
  }
 ],
 "metadata": {
  "celltoolbar": "Slideshow",
  "kernelspec": {
   "display_name": "SageMath 7.3",
   "language": "",
   "name": "sagemath"
  },
  "language_info": {
   "codemirror_mode": {
    "name": "ipython",
    "version": 2
   },
   "file_extension": ".py",
   "mimetype": "text/x-python",
   "name": "python",
   "nbconvert_exporter": "python",
   "pygments_lexer": "ipython2",
   "version": "2.7.10"
  }
 },
 "nbformat": 4,
 "nbformat_minor": 1
}
